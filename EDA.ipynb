{
 "cells": [
  {
   "cell_type": "code",
   "execution_count": 1,
   "id": "4c85a631-d00b-4442-ad71-1f6289ce52d4",
   "metadata": {},
   "outputs": [],
   "source": [
    "import pandas as pd\n",
    "import numpy as np\n",
    "import os"
   ]
  },
  {
   "cell_type": "code",
   "execution_count": 2,
   "id": "87cd1286-d595-41dc-91a4-8d6c466d374c",
   "metadata": {},
   "outputs": [],
   "source": [
    "# main filter based on days\n",
    "kpi_data = [\n",
    "    {\"img\": \"/assets/img/channel-icon.png\", \"name\": \"No. of Youtube Channels\", \"usa_value\": \"10223\", \"ind_value\": \"10223\"},\n",
    "    {\"img\": \"/assets/img/trending-video.png\", \"name\": \"No. of Trending Videos\", \"usa_value\": \"10223\", \"ind_value\": \"10223\"},\n",
    "    {\"img\": \"/assets/img/social-engagement.png\", \"name\": \"No. of Total Engagements\", \"usa_value\": \"2345\", \"ind_value\": \"1023\"},\n",
    "    {\"img\": \"/assets/img/engagement-per-video.png\", \"name\": \"Avg. Engagement/ video\", \"usa_value\": \"124\", \"ind_value\": \"123\"},\n",
    "    {\"img\": \"/assets/img/publish-rate.png\", \"name\": \"Avg. Content Publishing/ Day\", \"usa_value\": \"30%\", \"ind_value\": \"20%\"},\n",
    "    {\"img\": \"/assets/img/avg-trending.png\", \"name\": \"Avg. Time taken to Trend\", \"usa_value\": \"45%\", \"ind_value\": \"30%\"}\n",
    "]"
   ]
  },
  {
   "cell_type": "code",
   "execution_count": 3,
   "id": "41506f23-f9ea-40ab-83eb-1800eca4f5af",
   "metadata": {},
   "outputs": [],
   "source": [
    "def read_data():\n",
    "    # current working directory\n",
    "    cwd = os.getcwd()\n",
    "    \n",
    "    # load the dataframes\n",
    "    data_path = os.path.join(cwd, \"data\")\n",
    "    india_df = pd.read_csv(os.path.join(data_path, \"india_ytb_data.csv\"))\n",
    "    usa_df = pd.read_csv(os.path.join(data_path, \"usa_ytb_data.csv\"))\n",
    "    category_df = pd.read_csv(os.path.join(data_path, \"category_id.csv\"))\n",
    "\n",
    "    # Merge the categories\n",
    "    cat_df = category_df[[\"id\", \"snippet/title\"]]\n",
    "    india_df = india_df.merge(cat_df, how=\"left\", left_on=\"category_id\", right_on=\"id\")\n",
    "    usa_df = usa_df.merge(cat_df, how=\"left\", left_on=\"category_id\", right_on=\"id\")\n",
    "\n",
    "    return usa_df, india_df"
   ]
  },
  {
   "cell_type": "code",
   "execution_count": 4,
   "id": "e7afb8fe-5ca4-44f1-8a2c-397da331f61e",
   "metadata": {},
   "outputs": [],
   "source": [
    "def clean_create_neccessary_columns(df, data=\"ind\"):\n",
    "    # clean outlier from india - video id - \"#NAME?\" & \"#VALUE\"\n",
    "    df.drop(df[df[\"video_id\"] == \"#NAME?\"].index, inplace=True)\n",
    "    df.drop(df[df[\"video_id\"] == \"#VALUE!\"].index, inplace=True)\n",
    "    df[\"PublishTime\"] = pd.to_datetime(df['publish_time'], format='%Y-%m-%dT%H:%M:%S.%fZ')\n",
    "    df[\"publish_date\"] = df['PublishTime'].dt.strftime('%d-%m-%Y')\n",
    "    df[\"publish_weekday\"] = df['PublishTime'].dt.day_name()\n",
    "    df[\"publish_hour\"] = df['PublishTime'].dt.day_name\n",
    "    df[\"publish_month\"] = df['PublishTime'].dt.month_name()\n",
    "    df[\"sequential\"] = df.groupby('video_id').cumcount()+1\n",
    "    df[\"engagement\"] = df[\"likes\"] + df[\"dislikes\"] + df[\"comment_count\"]\n",
    "    df[\"video_age\"] = 1\n",
    "\n",
    "    return df"
   ]
  },
  {
   "cell_type": "code",
   "execution_count": 5,
   "id": "90853e5d-9868-4dac-b8b0-b1c5a5f7b888",
   "metadata": {},
   "outputs": [],
   "source": [
    "def kpi_analysis(df):\n",
    "    no_of_ytb_channels = df[\"channel_title\"].nunique()\n",
    "    no_of_trending_videos = df[\"video_id\"].nunique()\n",
    "    total_engagement = df[\"engagement\"].sum()\n",
    "    avg_video_engagement = int(df[\"engagement\"].mean())\n",
    "    avg_no_of_video_published_in_day = int(pd.DataFrame(df.groupby([\"publish_date\"])[\"video_id\"].count().reset_index())[\"video_id\"].mean())\n",
    "    avg_no_of_time_video_trends = int(df.groupby([\"video_id\"]).agg({\"video_age\": sum}).reset_index()[\"video_age\"].mean())\n",
    "\n",
    "    x = [no_of_ytb_channels, no_of_trending_videos, total_engagement, avg_video_engagement, avg_no_of_video_published_in_day, avg_no_of_time_video_trends]\n",
    "    \n",
    "    return x\n",
    "\n",
    "def update_kpi_data(country_val, update_data, default_kpi_data):\n",
    "    for ind_, kpi_data in enumerate(default_kpi_data):\n",
    "        default_kpi_data[ind_][country_val] = update_data[ind_]\n",
    "\n",
    "    return default_kpi_data\n",
    "\n",
    "def get_kpi_data(usa_df, ind_df, default_kpi_data):\n",
    "    usa_x = kpi_analysis(usa_df)\n",
    "    ind_x = kpi_analysis(ind_df)\n",
    "\n",
    "    default_kpi_data = update_kpi_data(country_val=\"usa_value\", update_data=usa_x, default_kpi_data=default_kpi_data)\n",
    "    updated_kpi_data = update_kpi_data(country_val=\"ind_value\", update_data=ind_x, default_kpi_data=default_kpi_data)\n",
    "\n",
    "    return updated_kpi_data"
   ]
  },
  {
   "cell_type": "code",
   "execution_count": 6,
   "id": "0d86e3f0-d291-49eb-a940-0556fa3e8338",
   "metadata": {},
   "outputs": [],
   "source": [
    "usa_df, india_df = read_data()\n",
    "cleaned_usa_df = clean_create_neccessary_columns(df=usa_df, data=\"usa\")\n",
    "cleaned_ind_df = clean_create_neccessary_columns(df=india_df, data=\"ind\")"
   ]
  },
  {
   "cell_type": "code",
   "execution_count": 7,
   "id": "164593b6-7c95-45ba-ab30-19bd2c365ced",
   "metadata": {},
   "outputs": [
    {
     "data": {
      "text/html": [
       "<div>\n",
       "<style scoped>\n",
       "    .dataframe tbody tr th:only-of-type {\n",
       "        vertical-align: middle;\n",
       "    }\n",
       "\n",
       "    .dataframe tbody tr th {\n",
       "        vertical-align: top;\n",
       "    }\n",
       "\n",
       "    .dataframe thead th {\n",
       "        text-align: right;\n",
       "    }\n",
       "</style>\n",
       "<table border=\"1\" class=\"dataframe\">\n",
       "  <thead>\n",
       "    <tr style=\"text-align: right;\">\n",
       "      <th></th>\n",
       "      <th>video_id</th>\n",
       "      <th>trending_date</th>\n",
       "      <th>title</th>\n",
       "      <th>channel_title</th>\n",
       "      <th>category_id</th>\n",
       "      <th>publish_time</th>\n",
       "      <th>tags</th>\n",
       "      <th>views</th>\n",
       "      <th>likes</th>\n",
       "      <th>dislikes</th>\n",
       "      <th>...</th>\n",
       "      <th>id</th>\n",
       "      <th>snippet/title</th>\n",
       "      <th>PublishTime</th>\n",
       "      <th>publish_date</th>\n",
       "      <th>publish_weekday</th>\n",
       "      <th>publish_hour</th>\n",
       "      <th>publish_month</th>\n",
       "      <th>sequential</th>\n",
       "      <th>engagement</th>\n",
       "      <th>video_age</th>\n",
       "    </tr>\n",
       "  </thead>\n",
       "  <tbody>\n",
       "    <tr>\n",
       "      <th>0</th>\n",
       "      <td>2kyS6SvSYSE</td>\n",
       "      <td>17.14.11</td>\n",
       "      <td>WE WANT TO TALK ABOUT OUR MARRIAGE</td>\n",
       "      <td>CaseyNeistat</td>\n",
       "      <td>22</td>\n",
       "      <td>2017-11-13T17:13:01.000Z</td>\n",
       "      <td>SHANtell martin</td>\n",
       "      <td>748374</td>\n",
       "      <td>57527</td>\n",
       "      <td>2966</td>\n",
       "      <td>...</td>\n",
       "      <td>22</td>\n",
       "      <td>People &amp; Blogs</td>\n",
       "      <td>2017-11-13 17:13:01</td>\n",
       "      <td>13-11-2017</td>\n",
       "      <td>Monday</td>\n",
       "      <td>&lt;bound method PandasDelegate._add_delegate_acc...</td>\n",
       "      <td>November</td>\n",
       "      <td>1</td>\n",
       "      <td>76447</td>\n",
       "      <td>1</td>\n",
       "    </tr>\n",
       "    <tr>\n",
       "      <th>1</th>\n",
       "      <td>1ZAPwfrtAFY</td>\n",
       "      <td>17.14.11</td>\n",
       "      <td>The Trump Presidency: Last Week Tonight with J...</td>\n",
       "      <td>LastWeekTonight</td>\n",
       "      <td>24</td>\n",
       "      <td>2017-11-13T07:30:00.000Z</td>\n",
       "      <td>last week tonight trump presidency|\"last week ...</td>\n",
       "      <td>2418783</td>\n",
       "      <td>97185</td>\n",
       "      <td>6146</td>\n",
       "      <td>...</td>\n",
       "      <td>24</td>\n",
       "      <td>Entertainment</td>\n",
       "      <td>2017-11-13 07:30:00</td>\n",
       "      <td>13-11-2017</td>\n",
       "      <td>Monday</td>\n",
       "      <td>&lt;bound method PandasDelegate._add_delegate_acc...</td>\n",
       "      <td>November</td>\n",
       "      <td>1</td>\n",
       "      <td>116034</td>\n",
       "      <td>1</td>\n",
       "    </tr>\n",
       "    <tr>\n",
       "      <th>2</th>\n",
       "      <td>5qpjK5DgCt4</td>\n",
       "      <td>17.14.11</td>\n",
       "      <td>Racist Superman | Rudy Mancuso, King Bach &amp; Le...</td>\n",
       "      <td>Rudy Mancuso</td>\n",
       "      <td>23</td>\n",
       "      <td>2017-11-12T19:05:24.000Z</td>\n",
       "      <td>racist superman|\"rudy\"|\"mancuso\"|\"king\"|\"bach\"...</td>\n",
       "      <td>3191434</td>\n",
       "      <td>146033</td>\n",
       "      <td>5339</td>\n",
       "      <td>...</td>\n",
       "      <td>23</td>\n",
       "      <td>Comedy</td>\n",
       "      <td>2017-11-12 19:05:24</td>\n",
       "      <td>12-11-2017</td>\n",
       "      <td>Sunday</td>\n",
       "      <td>&lt;bound method PandasDelegate._add_delegate_acc...</td>\n",
       "      <td>November</td>\n",
       "      <td>1</td>\n",
       "      <td>159553</td>\n",
       "      <td>1</td>\n",
       "    </tr>\n",
       "    <tr>\n",
       "      <th>3</th>\n",
       "      <td>puqaWrEC7tY</td>\n",
       "      <td>17.14.11</td>\n",
       "      <td>Nickelback Lyrics: Real or Fake?</td>\n",
       "      <td>Good Mythical Morning</td>\n",
       "      <td>24</td>\n",
       "      <td>2017-11-13T11:00:04.000Z</td>\n",
       "      <td>rhett and link|\"gmm\"|\"good mythical morning\"|\"...</td>\n",
       "      <td>343168</td>\n",
       "      <td>10172</td>\n",
       "      <td>666</td>\n",
       "      <td>...</td>\n",
       "      <td>24</td>\n",
       "      <td>Entertainment</td>\n",
       "      <td>2017-11-13 11:00:04</td>\n",
       "      <td>13-11-2017</td>\n",
       "      <td>Monday</td>\n",
       "      <td>&lt;bound method PandasDelegate._add_delegate_acc...</td>\n",
       "      <td>November</td>\n",
       "      <td>1</td>\n",
       "      <td>12984</td>\n",
       "      <td>1</td>\n",
       "    </tr>\n",
       "    <tr>\n",
       "      <th>4</th>\n",
       "      <td>d380meD0W0M</td>\n",
       "      <td>17.14.11</td>\n",
       "      <td>I Dare You: GOING BALD!?</td>\n",
       "      <td>nigahiga</td>\n",
       "      <td>24</td>\n",
       "      <td>2017-11-12T18:01:41.000Z</td>\n",
       "      <td>ryan|\"higa\"|\"higatv\"|\"nigahiga\"|\"i dare you\"|\"...</td>\n",
       "      <td>2095731</td>\n",
       "      <td>132235</td>\n",
       "      <td>1989</td>\n",
       "      <td>...</td>\n",
       "      <td>24</td>\n",
       "      <td>Entertainment</td>\n",
       "      <td>2017-11-12 18:01:41</td>\n",
       "      <td>12-11-2017</td>\n",
       "      <td>Sunday</td>\n",
       "      <td>&lt;bound method PandasDelegate._add_delegate_acc...</td>\n",
       "      <td>November</td>\n",
       "      <td>1</td>\n",
       "      <td>151742</td>\n",
       "      <td>1</td>\n",
       "    </tr>\n",
       "  </tbody>\n",
       "</table>\n",
       "<p>5 rows × 26 columns</p>\n",
       "</div>"
      ],
      "text/plain": [
       "      video_id trending_date  \\\n",
       "0  2kyS6SvSYSE      17.14.11   \n",
       "1  1ZAPwfrtAFY      17.14.11   \n",
       "2  5qpjK5DgCt4      17.14.11   \n",
       "3  puqaWrEC7tY      17.14.11   \n",
       "4  d380meD0W0M      17.14.11   \n",
       "\n",
       "                                               title          channel_title  \\\n",
       "0                 WE WANT TO TALK ABOUT OUR MARRIAGE           CaseyNeistat   \n",
       "1  The Trump Presidency: Last Week Tonight with J...        LastWeekTonight   \n",
       "2  Racist Superman | Rudy Mancuso, King Bach & Le...           Rudy Mancuso   \n",
       "3                   Nickelback Lyrics: Real or Fake?  Good Mythical Morning   \n",
       "4                           I Dare You: GOING BALD!?               nigahiga   \n",
       "\n",
       "   category_id              publish_time  \\\n",
       "0           22  2017-11-13T17:13:01.000Z   \n",
       "1           24  2017-11-13T07:30:00.000Z   \n",
       "2           23  2017-11-12T19:05:24.000Z   \n",
       "3           24  2017-11-13T11:00:04.000Z   \n",
       "4           24  2017-11-12T18:01:41.000Z   \n",
       "\n",
       "                                                tags    views   likes  \\\n",
       "0                                    SHANtell martin   748374   57527   \n",
       "1  last week tonight trump presidency|\"last week ...  2418783   97185   \n",
       "2  racist superman|\"rudy\"|\"mancuso\"|\"king\"|\"bach\"...  3191434  146033   \n",
       "3  rhett and link|\"gmm\"|\"good mythical morning\"|\"...   343168   10172   \n",
       "4  ryan|\"higa\"|\"higatv\"|\"nigahiga\"|\"i dare you\"|\"...  2095731  132235   \n",
       "\n",
       "   dislikes  ...  id   snippet/title         PublishTime  publish_date  \\\n",
       "0      2966  ...  22  People & Blogs 2017-11-13 17:13:01    13-11-2017   \n",
       "1      6146  ...  24   Entertainment 2017-11-13 07:30:00    13-11-2017   \n",
       "2      5339  ...  23          Comedy 2017-11-12 19:05:24    12-11-2017   \n",
       "3       666  ...  24   Entertainment 2017-11-13 11:00:04    13-11-2017   \n",
       "4      1989  ...  24   Entertainment 2017-11-12 18:01:41    12-11-2017   \n",
       "\n",
       "   publish_weekday                                       publish_hour  \\\n",
       "0           Monday  <bound method PandasDelegate._add_delegate_acc...   \n",
       "1           Monday  <bound method PandasDelegate._add_delegate_acc...   \n",
       "2           Sunday  <bound method PandasDelegate._add_delegate_acc...   \n",
       "3           Monday  <bound method PandasDelegate._add_delegate_acc...   \n",
       "4           Sunday  <bound method PandasDelegate._add_delegate_acc...   \n",
       "\n",
       "   publish_month sequential engagement video_age  \n",
       "0       November          1      76447         1  \n",
       "1       November          1     116034         1  \n",
       "2       November          1     159553         1  \n",
       "3       November          1      12984         1  \n",
       "4       November          1     151742         1  \n",
       "\n",
       "[5 rows x 26 columns]"
      ]
     },
     "execution_count": 7,
     "metadata": {},
     "output_type": "execute_result"
    }
   ],
   "source": [
    "cleaned_usa_df.head()"
   ]
  },
  {
   "cell_type": "code",
   "execution_count": 10,
   "id": "76c93a39-ebe6-40fb-8568-7315a03f7625",
   "metadata": {},
   "outputs": [],
   "source": [
    "import re"
   ]
  },
  {
   "cell_type": "code",
   "execution_count": 44,
   "id": "64266640-0273-4db9-b2f1-d9eccaf9b7b9",
   "metadata": {},
   "outputs": [],
   "source": [
    "txt = \"This video showcases the difference between people who speak in English and Tamil in a very funny way.\\nSubscribe to our YouTube Channel\\nCatch our updates on our social media pages:\\nwww.fb.com/ErumaShit\\nwww.twitter.com/Eruma_Saani\\nwww.instagram.com/ErumaSaani\""
   ]
  },
  {
   "cell_type": "code",
   "execution_count": 30,
   "id": "09fbe40e-bb6b-42eb-b52b-e36f6ca6c40c",
   "metadata": {},
   "outputs": [],
   "source": [
    "txt = \"Watch Stylish Star Allu Arjun @ ChaySam Wedding Reception \\n\\nâ˜› For latest news https://www.tfpc.in,  https://goo.gl/pQjhVq\\nâ˜› Follow Us on https://twitter.com/tfpcin\\nâ˜› Like Us on https://www.facebook.com/tfpcin\\nâ˜› Follow us on https://instagram.com/tfpcin/\\n\\nâ–º Latest Telugu Cinema Celebrities Interview https://goo.gl/08Kpy2 \\n\\nâ–º Latest Comedy Scenes https://goo.gl/SNtjdj\\n\\nâ–º Latest Telugu Cinema Making Videos https://goo.gl/42X3cD\\n\\nâ–º Latest Trailer  https://goo.gl/ugX9oT\""
   ]
  },
  {
   "cell_type": "code",
   "execution_count": 77,
   "id": "26f5d331-2191-4c93-b376-aa3d2a47bd50",
   "metadata": {},
   "outputs": [],
   "source": [
    "txt = \"why Samantha became EMOTIONAL @ Samantha naga chaithanya marriage Reception | Filmylooks #samantha #Nagachaithanya \\n\\nFilmy Looks is the celebrated hub of our Tollywood Industry. Its All about Movies. Get latest videos on your favourite Tollywood celebrities and catch them on all the events around you. \\n\\nSubscribe and stay connected to view Updates on TELUGU CINEMA......\\n\\nEnjoy & Have Fun!\\n#Filmylooks\\n\\nSubscribe Filmylookslive on youtube  :  https://goo.gl/AUM3Ue\\nLike Filmylooks on fb  : fb.com/filmylooks\\nFollow Filmylooks on twitter  : twitter.com/filmylooks\\nFollow Filmylooks on Google + : https://goo.gl/bgnTgy\\n\\nWatch Latest Telugu Trailers Here : https://www.youtube.com/watch?v=C6W53j8ijZo&list=PLrl_iHW-uUsl5jnQg-KbcTtc9YXDbXWCk\""
   ]
  },
  {
   "cell_type": "code",
   "execution_count": 78,
   "id": "d1461ef3-d60e-4766-bee5-ac200c6029f1",
   "metadata": {},
   "outputs": [
    {
     "data": {
      "text/plain": [
       "'why Samantha became EMOTIONAL @ Samantha naga chaithanya marriage Reception | Filmylooks #samantha #Nagachaithanya \\n\\nFilmy Looks is the celebrated hub of our Tollywood Industry. Its All about Movies. Get latest videos on your favourite Tollywood celebrities and catch them on all the events around you. \\n\\nSubscribe and stay connected to view Updates on TELUGU CINEMA......\\n\\nEnjoy & Have Fun!\\n#Filmylooks\\n\\nSubscribe Filmylookslive on youtube  :  https://goo.gl/AUM3Ue\\nLike Filmylooks on fb  : fb.com/filmylooks\\nFollow Filmylooks on twitter  : twitter.com/filmylooks\\nFollow Filmylooks on Google + : https://goo.gl/bgnTgy\\n\\nWatch Latest Telugu Trailers Here : https://www.youtube.com/watch?v=C6W53j8ijZo&list=PLrl_iHW-uUsl5jnQg-KbcTtc9YXDbXWCk'"
      ]
     },
     "execution_count": 78,
     "metadata": {},
     "output_type": "execute_result"
    }
   ],
   "source": [
    "txt"
   ]
  },
  {
   "cell_type": "code",
   "execution_count": 79,
   "id": "ed61e830-d9d2-4055-8259-9a828c86f185",
   "metadata": {},
   "outputs": [],
   "source": [
    "url_list = get_links(txt)"
   ]
  },
  {
   "cell_type": "code",
   "execution_count": 80,
   "id": "4f1ab20d-328f-4229-92bf-d8e83aca65b2",
   "metadata": {},
   "outputs": [
    {
     "data": {
      "text/plain": [
       "['goo.gl', 'fb.com', 'twitter.com', 'goo.gl', 'www.youtube.com']"
      ]
     },
     "execution_count": 80,
     "metadata": {},
     "output_type": "execute_result"
    }
   ],
   "source": [
    "url_list"
   ]
  },
  {
   "cell_type": "code",
   "execution_count": 82,
   "id": "68077877-6c94-428c-8581-792a3f7e9de3",
   "metadata": {},
   "outputs": [],
   "source": [
    "def check(string, sub_str):\n",
    "    if (string.find(sub_str) == -1):\n",
    "        return 0\n",
    "    else:\n",
    "        return 1\n",
    "\n",
    "def get_links(txt):\n",
    "    myregex = r'(?:[a-zA-Z0-9](?:[a-zA-Z0-9\\-]{,61}[a-zA-Z0-9])?\\.)+[a-zA-Z]{2,6}'\n",
    "    url_list = re.findall(myregex, txt)\n",
    "\n",
    "    return url_list"
   ]
  },
  {
   "cell_type": "code",
   "execution_count": 83,
   "id": "35e0f47c-17d1-43f5-8501-3bdae4d4318d",
   "metadata": {},
   "outputs": [],
   "source": [
    "def url_data_for_promotion_analysis(df, col_name):\n",
    "    final_data = []\n",
    "    for txt in df[col_name]:\n",
    "        try:\n",
    "            url_list = get_links(txt)\n",
    "        except TypeError:\n",
    "            pass\n",
    "        data = {\"Facebook\": 0, \"Instagram\": 0, \"Twitter\": 0, \"Youtube\": 0, \"Google\": 0, \"Others\": 0}\n",
    "        for url in url_list:\n",
    "            if check(url, \"fb\"):\n",
    "                data[\"Facebook\"] = data[\"Facebook\"] + 1 \n",
    "            elif check(url, \"instagram\"):\n",
    "                data[\"Instagram\"] = data[\"Instagram\"] +1 \n",
    "            elif check(url, \"twitter\"):\n",
    "                data[\"Twitter\"] = data[\"Twitter\"] +1 \n",
    "            elif check(url, \"goo.gl\"):\n",
    "                data[\"Google\"] = data[\"Google\"] + 1\n",
    "            elif check(url, \"youtube\"):\n",
    "                data[\"Youtube\"] = data[\"Youtube\"] + 1\n",
    "            elif check(url, \"youtube\"):\n",
    "                data[\"Youtube\"] = data[\"Youtube\"] + 1 \n",
    "            else:\n",
    "                data[\"Others\"] = data[\"Others\"] + 1 \n",
    "        final_data.append(data)\n",
    "\n",
    "    return pd.DataFrame(final_data)"
   ]
  },
  {
   "cell_type": "code",
   "execution_count": 84,
   "id": "8cabf400-fda2-4f6f-83d9-ebb5bc471008",
   "metadata": {},
   "outputs": [],
   "source": [
    "url_df = url_data_for_promotion_analysis(df=cleaned_usa_df, col_name=\"description\") "
   ]
  },
  {
   "cell_type": "code",
   "execution_count": 86,
   "id": "df74eff5-b39b-4522-91fc-67052c19717f",
   "metadata": {},
   "outputs": [],
   "source": [
    "df = pd.merge(cleaned_ind_df, url_df, left_index=True, right_index=True)"
   ]
  },
  {
   "cell_type": "code",
   "execution_count": 87,
   "id": "00f139c4-ecea-4ab4-b0cc-c69746f67bf5",
   "metadata": {},
   "outputs": [
    {
     "data": {
      "text/html": [
       "<div>\n",
       "<style scoped>\n",
       "    .dataframe tbody tr th:only-of-type {\n",
       "        vertical-align: middle;\n",
       "    }\n",
       "\n",
       "    .dataframe tbody tr th {\n",
       "        vertical-align: top;\n",
       "    }\n",
       "\n",
       "    .dataframe thead th {\n",
       "        text-align: right;\n",
       "    }\n",
       "</style>\n",
       "<table border=\"1\" class=\"dataframe\">\n",
       "  <thead>\n",
       "    <tr style=\"text-align: right;\">\n",
       "      <th></th>\n",
       "      <th>video_id</th>\n",
       "      <th>trending_date</th>\n",
       "      <th>title</th>\n",
       "      <th>channel_title</th>\n",
       "      <th>category_id</th>\n",
       "      <th>publish_time</th>\n",
       "      <th>tags</th>\n",
       "      <th>views</th>\n",
       "      <th>likes</th>\n",
       "      <th>dislikes</th>\n",
       "      <th>...</th>\n",
       "      <th>publish_month</th>\n",
       "      <th>sequential</th>\n",
       "      <th>engagement</th>\n",
       "      <th>video_age</th>\n",
       "      <th>Facebook</th>\n",
       "      <th>Instagram</th>\n",
       "      <th>Twitter</th>\n",
       "      <th>Youtube</th>\n",
       "      <th>Google</th>\n",
       "      <th>Others</th>\n",
       "    </tr>\n",
       "  </thead>\n",
       "  <tbody>\n",
       "    <tr>\n",
       "      <th>0</th>\n",
       "      <td>kzwfHumJyYc</td>\n",
       "      <td>17.14.11</td>\n",
       "      <td>Sharry Mann: Cute Munda ( Song Teaser) | Parmi...</td>\n",
       "      <td>Lokdhun Punjabi</td>\n",
       "      <td>1</td>\n",
       "      <td>2017-11-12T12:20:39.000Z</td>\n",
       "      <td>sharry mann|\"sharry mann new song\"|\"sharry man...</td>\n",
       "      <td>1096327</td>\n",
       "      <td>33966</td>\n",
       "      <td>798</td>\n",
       "      <td>...</td>\n",
       "      <td>November</td>\n",
       "      <td>1</td>\n",
       "      <td>35646</td>\n",
       "      <td>1</td>\n",
       "      <td>0</td>\n",
       "      <td>1</td>\n",
       "      <td>1</td>\n",
       "      <td>1</td>\n",
       "      <td>0</td>\n",
       "      <td>20</td>\n",
       "    </tr>\n",
       "    <tr>\n",
       "      <th>1</th>\n",
       "      <td>zUZ1z7FwLc8</td>\n",
       "      <td>17.14.11</td>\n",
       "      <td>पीरियड्स के समय, पेट पर पति करता ऐसा, देखकर दं...</td>\n",
       "      <td>HJ NEWS</td>\n",
       "      <td>25</td>\n",
       "      <td>2017-11-13T05:43:56.000Z</td>\n",
       "      <td>पीरियड्स के समय|\"पेट पर पति करता ऐसा\"|\"देखकर द...</td>\n",
       "      <td>590101</td>\n",
       "      <td>735</td>\n",
       "      <td>904</td>\n",
       "      <td>...</td>\n",
       "      <td>November</td>\n",
       "      <td>1</td>\n",
       "      <td>1639</td>\n",
       "      <td>1</td>\n",
       "      <td>0</td>\n",
       "      <td>0</td>\n",
       "      <td>0</td>\n",
       "      <td>1</td>\n",
       "      <td>0</td>\n",
       "      <td>3</td>\n",
       "    </tr>\n",
       "    <tr>\n",
       "      <th>2</th>\n",
       "      <td>10L1hZ9qa58</td>\n",
       "      <td>17.14.11</td>\n",
       "      <td>Stylish Star Allu Arjun @ ChaySam Wedding Rece...</td>\n",
       "      <td>TFPC</td>\n",
       "      <td>24</td>\n",
       "      <td>2017-11-12T15:48:08.000Z</td>\n",
       "      <td>Stylish Star Allu Arjun @ ChaySam Wedding Rece...</td>\n",
       "      <td>473988</td>\n",
       "      <td>2011</td>\n",
       "      <td>243</td>\n",
       "      <td>...</td>\n",
       "      <td>November</td>\n",
       "      <td>1</td>\n",
       "      <td>2403</td>\n",
       "      <td>1</td>\n",
       "      <td>0</td>\n",
       "      <td>2</td>\n",
       "      <td>1</td>\n",
       "      <td>15</td>\n",
       "      <td>0</td>\n",
       "      <td>1</td>\n",
       "    </tr>\n",
       "    <tr>\n",
       "      <th>3</th>\n",
       "      <td>N1vE8iiEg64</td>\n",
       "      <td>17.14.11</td>\n",
       "      <td>Eruma Saani | Tamil vs English</td>\n",
       "      <td>Eruma Saani</td>\n",
       "      <td>23</td>\n",
       "      <td>2017-11-12T07:08:48.000Z</td>\n",
       "      <td>Eruma Saani|\"Tamil Comedy Videos\"|\"Films\"|\"Mov...</td>\n",
       "      <td>1242680</td>\n",
       "      <td>70353</td>\n",
       "      <td>1624</td>\n",
       "      <td>...</td>\n",
       "      <td>November</td>\n",
       "      <td>1</td>\n",
       "      <td>74661</td>\n",
       "      <td>1</td>\n",
       "      <td>0</td>\n",
       "      <td>1</td>\n",
       "      <td>1</td>\n",
       "      <td>3</td>\n",
       "      <td>1</td>\n",
       "      <td>15</td>\n",
       "    </tr>\n",
       "    <tr>\n",
       "      <th>4</th>\n",
       "      <td>kJzGH0PVQHQ</td>\n",
       "      <td>17.14.11</td>\n",
       "      <td>why Samantha became EMOTIONAL @ Samantha naga ...</td>\n",
       "      <td>Filmylooks</td>\n",
       "      <td>24</td>\n",
       "      <td>2017-11-13T01:14:16.000Z</td>\n",
       "      <td>Filmylooks|\"latest news\"|\"telugu movies\"|\"telu...</td>\n",
       "      <td>464015</td>\n",
       "      <td>492</td>\n",
       "      <td>293</td>\n",
       "      <td>...</td>\n",
       "      <td>November</td>\n",
       "      <td>1</td>\n",
       "      <td>851</td>\n",
       "      <td>1</td>\n",
       "      <td>0</td>\n",
       "      <td>1</td>\n",
       "      <td>1</td>\n",
       "      <td>1</td>\n",
       "      <td>0</td>\n",
       "      <td>4</td>\n",
       "    </tr>\n",
       "  </tbody>\n",
       "</table>\n",
       "<p>5 rows × 32 columns</p>\n",
       "</div>"
      ],
      "text/plain": [
       "      video_id trending_date  \\\n",
       "0  kzwfHumJyYc      17.14.11   \n",
       "1  zUZ1z7FwLc8      17.14.11   \n",
       "2  10L1hZ9qa58      17.14.11   \n",
       "3  N1vE8iiEg64      17.14.11   \n",
       "4  kJzGH0PVQHQ      17.14.11   \n",
       "\n",
       "                                               title    channel_title  \\\n",
       "0  Sharry Mann: Cute Munda ( Song Teaser) | Parmi...  Lokdhun Punjabi   \n",
       "1  पीरियड्स के समय, पेट पर पति करता ऐसा, देखकर दं...          HJ NEWS   \n",
       "2  Stylish Star Allu Arjun @ ChaySam Wedding Rece...             TFPC   \n",
       "3                     Eruma Saani | Tamil vs English      Eruma Saani   \n",
       "4  why Samantha became EMOTIONAL @ Samantha naga ...       Filmylooks   \n",
       "\n",
       "   category_id              publish_time  \\\n",
       "0            1  2017-11-12T12:20:39.000Z   \n",
       "1           25  2017-11-13T05:43:56.000Z   \n",
       "2           24  2017-11-12T15:48:08.000Z   \n",
       "3           23  2017-11-12T07:08:48.000Z   \n",
       "4           24  2017-11-13T01:14:16.000Z   \n",
       "\n",
       "                                                tags    views  likes  \\\n",
       "0  sharry mann|\"sharry mann new song\"|\"sharry man...  1096327  33966   \n",
       "1  पीरियड्स के समय|\"पेट पर पति करता ऐसा\"|\"देखकर द...   590101    735   \n",
       "2  Stylish Star Allu Arjun @ ChaySam Wedding Rece...   473988   2011   \n",
       "3  Eruma Saani|\"Tamil Comedy Videos\"|\"Films\"|\"Mov...  1242680  70353   \n",
       "4  Filmylooks|\"latest news\"|\"telugu movies\"|\"telu...   464015    492   \n",
       "\n",
       "   dislikes  ...  publish_month sequential  engagement  video_age  Facebook  \\\n",
       "0       798  ...       November          1       35646          1         0   \n",
       "1       904  ...       November          1        1639          1         0   \n",
       "2       243  ...       November          1        2403          1         0   \n",
       "3      1624  ...       November          1       74661          1         0   \n",
       "4       293  ...       November          1         851          1         0   \n",
       "\n",
       "  Instagram  Twitter Youtube Google Others  \n",
       "0         1        1       1      0     20  \n",
       "1         0        0       1      0      3  \n",
       "2         2        1      15      0      1  \n",
       "3         1        1       3      1     15  \n",
       "4         1        1       1      0      4  \n",
       "\n",
       "[5 rows x 32 columns]"
      ]
     },
     "execution_count": 87,
     "metadata": {},
     "output_type": "execute_result"
    }
   ],
   "source": [
    "df.head()"
   ]
  },
  {
   "cell_type": "code",
   "execution_count": 65,
   "id": "4dc3f6e6-2b83-4acf-8fc9-6feb438906ec",
   "metadata": {},
   "outputs": [
    {
     "data": {
      "text/plain": [
       "[{'Facebook': 1, 'Instagram': 0, 'Twitter': 1, 'Youtube': 1, 'Others': 2}]"
      ]
     },
     "execution_count": 65,
     "metadata": {},
     "output_type": "execute_result"
    }
   ],
   "source": [
    "final_data"
   ]
  },
  {
   "cell_type": "code",
   "execution_count": 24,
   "id": "745e4f03-a6ae-47f7-93a9-f3d7e4ad1aa1",
   "metadata": {},
   "outputs": [],
   "source": [
    "from imageai.Detection import ObjectDetection"
   ]
  },
  {
   "cell_type": "code",
   "execution_count": 9,
   "id": "e99b589a-5f6c-447b-8321-79faac70cf35",
   "metadata": {},
   "outputs": [],
   "source": [
    "def load_model():\n",
    "    detector = ObjectDetection()\n",
    "    # detector.setModelTypeAsRetinaNet()\n",
    "    detector.setModelTypeAsTinyYOLOv3()\n",
    "    # detector.setModelPath(\"resnet50_coco_best_v2.0.1.h5\")\n",
    "    detector.setModelPath(\"yolo-tiny.h5\")\n",
    "    detector.loadModel()\n",
    "\n",
    "    return detector"
   ]
  },
  {
   "cell_type": "code",
   "execution_count": null,
   "id": "fefdb3cb-3e85-490d-a56f-461870ac63ef",
   "metadata": {},
   "outputs": [],
   "source": [
    "print(time.strftime('%H:%M'))\n",
    "\n",
    "print(\"Processing {} thumbnails...\".format(len(os.listdir('thumbnails'))))\n",
    "labels = []\n",
    "i = 0\n",
    "\n",
    "for f in os.listdir('thumbnails'):\n",
    "    if i%500 == 0: \n",
    "        print(time.strftime('%H:%M:%S'))\n",
    "        time.sleep(400)\n",
    "    i += 1\n",
    "    if not f.endswith('.jpg'):\n",
    "        continue\n",
    "    detector = load_model()\n",
    "    returned_image, detections = detector.detectObjectsFromImage(input_image=os.path.join('thumbnails', f), output_type='array')\n",
    "    for obj in detections:\n",
    "        if obj['percentage_probability'] > 60:\n",
    "            labels.append((obj['name'], obj['percentage_probability']))\n",
    "            \n",
    "print(time.strftime('%H:%M'))"
   ]
  },
  {
   "cell_type": "code",
   "execution_count": 8,
   "id": "68d083f7-05fe-460c-87e9-44e9dd4c4fd5",
   "metadata": {},
   "outputs": [
    {
     "data": {
      "text/plain": [
       "0        17\n",
       "1         7\n",
       "2        19\n",
       "3        11\n",
       "4        18\n",
       "         ..\n",
       "40944    13\n",
       "40945     1\n",
       "40946    17\n",
       "40947    17\n",
       "40948    17\n",
       "Name: PublishTime, Length: 40949, dtype: int32"
      ]
     },
     "execution_count": 8,
     "metadata": {},
     "output_type": "execute_result"
    }
   ],
   "source": [
    "cleaned_usa_df[\"PublishTime\"].dt.hour"
   ]
  },
  {
   "cell_type": "code",
   "execution_count": 9,
   "id": "8b4e2338-25d8-486f-aa0a-9489026bb072",
   "metadata": {},
   "outputs": [],
   "source": [
    "cleaned_usa_df[\"TrendingDate\"] = pd.to_datetime(cleaned_usa_df['trending_date'], format='%y.%d.%m')"
   ]
  },
  {
   "cell_type": "code",
   "execution_count": 10,
   "id": "3a852014-20df-483f-a693-f9970006c7f9",
   "metadata": {},
   "outputs": [
    {
     "data": {
      "text/plain": [
       "0         0\n",
       "1         0\n",
       "2         1\n",
       "3         0\n",
       "4         1\n",
       "         ..\n",
       "40944    26\n",
       "40945    26\n",
       "40946    26\n",
       "40947    27\n",
       "40948    27\n",
       "Length: 40949, dtype: int64"
      ]
     },
     "execution_count": 10,
     "metadata": {},
     "output_type": "execute_result"
    }
   ],
   "source": [
    "(cleaned_usa_df[\"TrendingDate\"] - cleaned_usa_df['PublishTime']).dt.days"
   ]
  },
  {
   "cell_type": "code",
   "execution_count": 11,
   "id": "b5ecaaf8-dc09-4e1e-a782-8e987c874d2a",
   "metadata": {},
   "outputs": [],
   "source": [
    "cleaned_usa_df[\"TrendingTimeTaken\"] = (cleaned_usa_df[\"TrendingDate\"] - cleaned_usa_df['PublishTime']).dt.total_seconds() / 60 / 60\n",
    "cleaned_usa_df[\"trending_time_taken\"] = cleaned_usa_df[\"TrendingTimeTaken\"].abs()"
   ]
  },
  {
   "cell_type": "code",
   "execution_count": 13,
   "id": "1ec409b0-4665-47e9-93a3-57b3351fe8ea",
   "metadata": {},
   "outputs": [],
   "source": [
    "title_lengths = cleaned_usa_df[\"title\"].apply(lambda x: len(x))"
   ]
  },
  {
   "cell_type": "code",
   "execution_count": 17,
   "id": "c71940d1-e76e-4387-bdc7-c55268bffbe8",
   "metadata": {},
   "outputs": [
    {
     "data": {
      "text/plain": [
       "count    40949.000000\n",
       "mean        48.578183\n",
       "std         19.619025\n",
       "min          3.000000\n",
       "25%         34.000000\n",
       "50%         46.000000\n",
       "75%         61.000000\n",
       "max        100.000000\n",
       "Name: title, dtype: float64"
      ]
     },
     "execution_count": 17,
     "metadata": {},
     "output_type": "execute_result"
    }
   ],
   "source": [
    "title_lengths.describe()"
   ]
  },
  {
   "cell_type": "code",
   "execution_count": 61,
   "id": "2703f55b-d0f7-48d8-84aa-00fa401afb06",
   "metadata": {},
   "outputs": [],
   "source": [
    "def len_checker(x):\n",
    "    try:\n",
    "        y = len(x)\n",
    "    except TypeError:\n",
    "        y = 0\n",
    "\n",
    "    return y"
   ]
  },
  {
   "cell_type": "code",
   "execution_count": null,
   "id": "7f2717fc-07d7-402c-9626-d53c0f0e53bb",
   "metadata": {},
   "outputs": [],
   "source": [
    "cleaned_usa_df[\"trending_time_taken\"]"
   ]
  },
  {
   "cell_type": "code",
   "execution_count": 64,
   "id": "d50bdeda-7728-44ce-b49e-3f379f2ea5ba",
   "metadata": {},
   "outputs": [],
   "source": [
    "def distribuition_of_text_data(df, col_name, dist_type='text'):\n",
    "    if dist_type==\"text\":\n",
    "        text_lengths = df[col_name].apply(lambda x: len_checker(x))\n",
    "    elif dist_type=='integer':\n",
    "        text_lengths = df[col_name]\n",
    "    \n",
    "    mini = int(text_lengths.min())\n",
    "    qut25 = int(text_lengths.quantile(q=0.25))\n",
    "    qut50 = int(text_lengths.quantile(q=0.50))\n",
    "    qut75 = int(text_lengths.quantile(q=0.75))\n",
    "    qut90 = int(text_lengths.quantile(q=0.90))\n",
    "    maxi = int(text_lengths.max())\n",
    "    avg = int(text_lengths.mean())\n",
    "\n",
    "    data = f\"Avg:{avg};[Min:{mini}; Quantile 25%-{qut25} 50%-{qut50} 75%-{qut75} 90%-{qut90}; Max: {maxi}]\"\n",
    "\n",
    "    return data"
   ]
  },
  {
   "cell_type": "code",
   "execution_count": 67,
   "id": "587bc435-13dc-4bec-adc7-cdfcbc53d6b2",
   "metadata": {},
   "outputs": [
    {
     "data": {
      "text/plain": [
       "'Avg:275;[Min:4; Quantile 25%-119 50%-265 75%-445 90%-504; Max: 628]'"
      ]
     },
     "execution_count": 67,
     "metadata": {},
     "output_type": "execute_result"
    }
   ],
   "source": [
    "distribuition_of_text_data(df=cleaned_usa_df, col_name='tags')"
   ]
  },
  {
   "cell_type": "code",
   "execution_count": null,
   "id": "7b652934-2cf6-4d63-b90a-0e71a7e1597e",
   "metadata": {},
   "outputs": [],
   "source": [
    "distribuition_of_text_data(df=cleaned_usa_df, col_name='')"
   ]
  },
  {
   "cell_type": "code",
   "execution_count": 39,
   "id": "0c5c40d9-64db-4631-b94e-b53236fa6b45",
   "metadata": {},
   "outputs": [
    {
     "data": {
      "text/plain": [
       "48.578182617402135"
      ]
     },
     "execution_count": 39,
     "metadata": {},
     "output_type": "execute_result"
    }
   ],
   "source": [
    "# Quartile 25, 75, 90, max, min\n",
    "title_lengths.min()\n",
    "title_lengths.quantile(q=0.25)\n",
    "title_lengths.quantile(q=0.50)\n",
    "title_lengths.quantile(q=0.75)\n",
    "title_lengths.quantile(q=0.90)\n",
    "title_lengths.max()\n",
    "title_lengths.mean()"
   ]
  },
  {
   "cell_type": "code",
   "execution_count": null,
   "id": "951ff0ec-9413-4e6c-87d8-da96bebca08b",
   "metadata": {},
   "outputs": [],
   "source": [
    "cleaned_usa_df.sort_values(by='trending_time_taken', ascending=False)"
   ]
  },
  {
   "cell_type": "code",
   "execution_count": 29,
   "id": "33d72836-a0d9-48d5-af6d-588b12d12b4c",
   "metadata": {},
   "outputs": [
    {
     "name": "stdout",
     "output_type": "stream",
     "text": [
      "<class 'pandas.core.frame.DataFrame'>\n",
      "RangeIndex: 40949 entries, 0 to 40948\n",
      "Data columns (total 27 columns):\n",
      " #   Column                  Non-Null Count  Dtype         \n",
      "---  ------                  --------------  -----         \n",
      " 0   video_id                40949 non-null  object        \n",
      " 1   trending_date           40949 non-null  object        \n",
      " 2   title                   40949 non-null  object        \n",
      " 3   channel_title           40949 non-null  object        \n",
      " 4   category_id             40949 non-null  int64         \n",
      " 5   publish_time            40949 non-null  object        \n",
      " 6   tags                    40949 non-null  object        \n",
      " 7   views                   40949 non-null  int64         \n",
      " 8   likes                   40949 non-null  int64         \n",
      " 9   dislikes                40949 non-null  int64         \n",
      " 10  comment_count           40949 non-null  int64         \n",
      " 11  thumbnail_link          40949 non-null  object        \n",
      " 12  comments_disabled       40949 non-null  bool          \n",
      " 13  ratings_disabled        40949 non-null  bool          \n",
      " 14  video_error_or_removed  40949 non-null  bool          \n",
      " 15  description             40379 non-null  object        \n",
      " 16  id                      40949 non-null  int64         \n",
      " 17  snippet/title           40949 non-null  object        \n",
      " 18  PublishTime             40949 non-null  datetime64[ns]\n",
      " 19  publish_date            40949 non-null  object        \n",
      " 20  publish_weekday         40949 non-null  object        \n",
      " 21  publish_hour            40949 non-null  object        \n",
      " 22  publish_month           40949 non-null  object        \n",
      " 23  sequential              40949 non-null  int64         \n",
      " 24  engagement              40949 non-null  int64         \n",
      " 25  video_age               40949 non-null  int64         \n",
      " 26  TrendingDate            40949 non-null  datetime64[ns]\n",
      "dtypes: bool(3), datetime64[ns](2), int64(9), object(13)\n",
      "memory usage: 7.6+ MB\n"
     ]
    }
   ],
   "source": [
    "cleaned_usa_df.info()"
   ]
  },
  {
   "cell_type": "code",
   "execution_count": 7,
   "id": "44acda28-c74d-481d-9ff0-0d8e11a4c47e",
   "metadata": {},
   "outputs": [],
   "source": [
    "kpi_analysis_data = get_kpi_data(usa_df=cleaned_usa_df, ind_df=cleaned_ind_df, default_kpi_data=kpi_data)"
   ]
  },
  {
   "cell_type": "code",
   "execution_count": 70,
   "id": "c01a4150-049d-47b9-a3a2-2756b785cf5d",
   "metadata": {},
   "outputs": [
    {
     "data": {
      "text/plain": [
       "[{'img': '/assets/img/channel-icon.png',\n",
       "  'name': 'No. of Youtube Channels',\n",
       "  'usa_value': 2207,\n",
       "  'ind_value': 1423},\n",
       " {'img': '/assets/img/trending-video.png',\n",
       "  'name': 'No. of Trending Videos',\n",
       "  'usa_value': 6351,\n",
       "  'ind_value': 16305},\n",
       " {'img': '/assets/img/social-engagement.png',\n",
       "  'name': 'No. of Total Engagements',\n",
       "  'usa_value': 3539013517,\n",
       "  'ind_value': 1154076069},\n",
       " {'img': '/assets/img/engagement-per-video.png',\n",
       "  'name': 'Avg. Engagement/ video',\n",
       "  'usa_value': 86424,\n",
       "  'ind_value': 31331},\n",
       " {'img': '/assets/img/publish-rate.png',\n",
       "  'name': 'Avg. Content Publishing/ Day',\n",
       "  'usa_value': 130,\n",
       "  'ind_value': 168},\n",
       " {'img': '/assets/img/avg-trending.png',\n",
       "  'name': 'Avg. Time taken to Trend',\n",
       "  'usa_value': 6,\n",
       "  'ind_value': 2}]"
      ]
     },
     "execution_count": 70,
     "metadata": {},
     "output_type": "execute_result"
    }
   ],
   "source": [
    "kpi_analysis_data"
   ]
  },
  {
   "cell_type": "code",
   "execution_count": 191,
   "id": "3edb12fe-b620-43e2-8f44-0c10a72719c6",
   "metadata": {},
   "outputs": [],
   "source": [
    "# clean outlier from india - video id - \"#NAME?\" & \"#VALUE\"\n",
    "india_df.drop(india_df[india_df[\"video_id\"] == \"#NAME?\"].index, inplace=True)\n",
    "india_df.drop(india_df[india_df[\"video_id\"] == \"#VALUE!\"].index, inplace=True)\n",
    "india_df[\"PublishTime\"] = pd.to_datetime(india_df['publish_time'], format='%Y-%m-%dT%H:%M:%S.%fZ')\n",
    "india_df[\"publish_date\"] = india_df['PublishTime'].dt.strftime('%d-%m-%Y')\n",
    "india_df[\"publish_weekday\"] = india_df['PublishTime'].dt.day_name()\n",
    "india_df[\"publish_hour\"] = india_df['PublishTime'].dt.day_name\n",
    "india_df[\"publish_month\"] = india_df['PublishTime'].dt.month_name()\n",
    "india_df[\"engagement\"] = india_df[\"likes\"] + india_df[\"dislikes\"] + india_df[\"comment_count\"]\n",
    "india_df[\"video_age\"] = 1"
   ]
  },
  {
   "cell_type": "code",
   "execution_count": 107,
   "id": "199a3dd4-3017-4bf6-92bd-d195517aba20",
   "metadata": {},
   "outputs": [],
   "source": [
    "df = pd.DataFrame(np.arange(20).reshape(10, -1),\n",
    "                  [['a', 'a', 'a', 'a', 'b', 'b', 'b', 'c', 'c', 'd'],\n",
    "                   ['a', 'b', 'c', 'd', 'e', 'f', 'g', 'h', 'i', 'j']],\n",
    "                  ['X', 'Y'])"
   ]
  },
  {
   "cell_type": "code",
   "execution_count": 108,
   "id": "d57f0da2-80cc-4da1-983b-3a5936eddef2",
   "metadata": {},
   "outputs": [
    {
     "data": {
      "text/html": [
       "<div>\n",
       "<style scoped>\n",
       "    .dataframe tbody tr th:only-of-type {\n",
       "        vertical-align: middle;\n",
       "    }\n",
       "\n",
       "    .dataframe tbody tr th {\n",
       "        vertical-align: top;\n",
       "    }\n",
       "\n",
       "    .dataframe thead th {\n",
       "        text-align: right;\n",
       "    }\n",
       "</style>\n",
       "<table border=\"1\" class=\"dataframe\">\n",
       "  <thead>\n",
       "    <tr style=\"text-align: right;\">\n",
       "      <th></th>\n",
       "      <th></th>\n",
       "      <th>X</th>\n",
       "      <th>Y</th>\n",
       "    </tr>\n",
       "  </thead>\n",
       "  <tbody>\n",
       "    <tr>\n",
       "      <th rowspan=\"4\" valign=\"top\">a</th>\n",
       "      <th>a</th>\n",
       "      <td>0</td>\n",
       "      <td>1</td>\n",
       "    </tr>\n",
       "    <tr>\n",
       "      <th>b</th>\n",
       "      <td>2</td>\n",
       "      <td>3</td>\n",
       "    </tr>\n",
       "    <tr>\n",
       "      <th>c</th>\n",
       "      <td>4</td>\n",
       "      <td>5</td>\n",
       "    </tr>\n",
       "    <tr>\n",
       "      <th>d</th>\n",
       "      <td>6</td>\n",
       "      <td>7</td>\n",
       "    </tr>\n",
       "    <tr>\n",
       "      <th rowspan=\"3\" valign=\"top\">b</th>\n",
       "      <th>e</th>\n",
       "      <td>8</td>\n",
       "      <td>9</td>\n",
       "    </tr>\n",
       "    <tr>\n",
       "      <th>f</th>\n",
       "      <td>10</td>\n",
       "      <td>11</td>\n",
       "    </tr>\n",
       "    <tr>\n",
       "      <th>g</th>\n",
       "      <td>12</td>\n",
       "      <td>13</td>\n",
       "    </tr>\n",
       "    <tr>\n",
       "      <th rowspan=\"2\" valign=\"top\">c</th>\n",
       "      <th>h</th>\n",
       "      <td>14</td>\n",
       "      <td>15</td>\n",
       "    </tr>\n",
       "    <tr>\n",
       "      <th>i</th>\n",
       "      <td>16</td>\n",
       "      <td>17</td>\n",
       "    </tr>\n",
       "    <tr>\n",
       "      <th>d</th>\n",
       "      <th>j</th>\n",
       "      <td>18</td>\n",
       "      <td>19</td>\n",
       "    </tr>\n",
       "  </tbody>\n",
       "</table>\n",
       "</div>"
      ],
      "text/plain": [
       "      X   Y\n",
       "a a   0   1\n",
       "  b   2   3\n",
       "  c   4   5\n",
       "  d   6   7\n",
       "b e   8   9\n",
       "  f  10  11\n",
       "  g  12  13\n",
       "c h  14  15\n",
       "  i  16  17\n",
       "d j  18  19"
      ]
     },
     "execution_count": 108,
     "metadata": {},
     "output_type": "execute_result"
    }
   ],
   "source": [
    "df"
   ]
  },
  {
   "cell_type": "code",
   "execution_count": 157,
   "id": "0d5ce735-55a9-44f4-8078-8dfbc6096e8d",
   "metadata": {},
   "outputs": [],
   "source": [
    "india_df = india_df.reset_index()"
   ]
  },
  {
   "cell_type": "code",
   "execution_count": 148,
   "id": "20c8f5cf-8be9-4ea2-9d18-9ce69b693d87",
   "metadata": {},
   "outputs": [],
   "source": [
    "india_df[\"sequential\"] = india_df.groupby('video_id').cumcount()+1"
   ]
  },
  {
   "cell_type": "code",
   "execution_count": 163,
   "id": "e7d7b32c-0c25-43a5-ac51-b04871aec43b",
   "metadata": {},
   "outputs": [
    {
     "data": {
      "text/plain": [
       "Index(['index', 'video_id', 'trending_date', 'title', 'channel_title',\n",
       "       'category_id', 'publish_time', 'tags', 'views', 'likes', 'dislikes',\n",
       "       'comment_count', 'thumbnail_link', 'comments_disabled',\n",
       "       'ratings_disabled', 'video_error_or_removed', 'description', 'id',\n",
       "       'snippet/title', 'PublishTime', 'publish_date', 'publish_weekday',\n",
       "       'publish_hour', 'publish_month', 'engagement', 'video_age',\n",
       "       'sequential'],\n",
       "      dtype='object')"
      ]
     },
     "execution_count": 163,
     "metadata": {},
     "output_type": "execute_result"
    }
   ],
   "source": [
    "india_df.columns"
   ]
  },
  {
   "cell_type": "code",
   "execution_count": 175,
   "id": "17c8c575-4edd-4ab7-aff2-39e464a3d48d",
   "metadata": {},
   "outputs": [
    {
     "data": {
      "text/html": [
       "<div>\n",
       "<style scoped>\n",
       "    .dataframe tbody tr th:only-of-type {\n",
       "        vertical-align: middle;\n",
       "    }\n",
       "\n",
       "    .dataframe tbody tr th {\n",
       "        vertical-align: top;\n",
       "    }\n",
       "\n",
       "    .dataframe thead th {\n",
       "        text-align: right;\n",
       "    }\n",
       "</style>\n",
       "<table border=\"1\" class=\"dataframe\">\n",
       "  <thead>\n",
       "    <tr style=\"text-align: right;\">\n",
       "      <th></th>\n",
       "      <th>index</th>\n",
       "      <th>video_id</th>\n",
       "      <th>sequential</th>\n",
       "    </tr>\n",
       "  </thead>\n",
       "  <tbody>\n",
       "    <tr>\n",
       "      <th>0</th>\n",
       "      <td>0</td>\n",
       "      <td>-0N9r10xb_0</td>\n",
       "      <td>2</td>\n",
       "    </tr>\n",
       "    <tr>\n",
       "      <th>1</th>\n",
       "      <td>1</td>\n",
       "      <td>-0WuM6ctLHg</td>\n",
       "      <td>3</td>\n",
       "    </tr>\n",
       "    <tr>\n",
       "      <th>2</th>\n",
       "      <td>2</td>\n",
       "      <td>-0mcgX4ro7I</td>\n",
       "      <td>2</td>\n",
       "    </tr>\n",
       "    <tr>\n",
       "      <th>3</th>\n",
       "      <td>3</td>\n",
       "      <td>-0neBEVK-3Y</td>\n",
       "      <td>5</td>\n",
       "    </tr>\n",
       "    <tr>\n",
       "      <th>4</th>\n",
       "      <td>4</td>\n",
       "      <td>-0qWaHPYLRc</td>\n",
       "      <td>1</td>\n",
       "    </tr>\n",
       "    <tr>\n",
       "      <th>...</th>\n",
       "      <td>...</td>\n",
       "      <td>...</td>\n",
       "      <td>...</td>\n",
       "    </tr>\n",
       "    <tr>\n",
       "      <th>16300</th>\n",
       "      <td>16300</td>\n",
       "      <td>zykZhNk7BNQ</td>\n",
       "      <td>1</td>\n",
       "    </tr>\n",
       "    <tr>\n",
       "      <th>16301</th>\n",
       "      <td>16301</td>\n",
       "      <td>zys43i_RKHM</td>\n",
       "      <td>2</td>\n",
       "    </tr>\n",
       "    <tr>\n",
       "      <th>16302</th>\n",
       "      <td>16302</td>\n",
       "      <td>zyvYkpoLeSU</td>\n",
       "      <td>3</td>\n",
       "    </tr>\n",
       "    <tr>\n",
       "      <th>16303</th>\n",
       "      <td>16303</td>\n",
       "      <td>zz6Nqy4SM3E</td>\n",
       "      <td>2</td>\n",
       "    </tr>\n",
       "    <tr>\n",
       "      <th>16304</th>\n",
       "      <td>16304</td>\n",
       "      <td>zzcAq02ncAE</td>\n",
       "      <td>1</td>\n",
       "    </tr>\n",
       "  </tbody>\n",
       "</table>\n",
       "<p>16305 rows × 3 columns</p>\n",
       "</div>"
      ],
      "text/plain": [
       "       index     video_id  sequential\n",
       "0          0  -0N9r10xb_0           2\n",
       "1          1  -0WuM6ctLHg           3\n",
       "2          2  -0mcgX4ro7I           2\n",
       "3          3  -0neBEVK-3Y           5\n",
       "4          4  -0qWaHPYLRc           1\n",
       "...      ...          ...         ...\n",
       "16300  16300  zykZhNk7BNQ           1\n",
       "16301  16301  zys43i_RKHM           2\n",
       "16302  16302  zyvYkpoLeSU           3\n",
       "16303  16303  zz6Nqy4SM3E           2\n",
       "16304  16304  zzcAq02ncAE           1\n",
       "\n",
       "[16305 rows x 3 columns]"
      ]
     },
     "execution_count": 175,
     "metadata": {},
     "output_type": "execute_result"
    }
   ],
   "source": [
    "india_df.groupby([\"video_id\"]).agg({\"sequential\": max}).reset_index()"
   ]
  },
  {
   "cell_type": "code",
   "execution_count": 133,
   "id": "0fa4c51d-9218-4dcb-a979-cc2ba6320129",
   "metadata": {},
   "outputs": [],
   "source": [
    "def get_last(df):\n",
    "    return df.index[-1]"
   ]
  },
  {
   "cell_type": "code",
   "execution_count": 143,
   "id": "ba46cf4d-aef9-4018-98dc-82152ade8b16",
   "metadata": {},
   "outputs": [
    {
     "data": {
      "text/plain": [
       "0            0\n",
       "1            1\n",
       "2            2\n",
       "3            3\n",
       "4            4\n",
       "         ...  \n",
       "36829    37347\n",
       "36830    37348\n",
       "36831    37349\n",
       "36832    37350\n",
       "36833    37351\n",
       "Name: index, Length: 36834, dtype: int64"
      ]
     },
     "execution_count": 143,
     "metadata": {},
     "output_type": "execute_result"
    }
   ],
   "source": [
    "pd.DataFrame(india_df[[\"video_id\"]].groupby(level=0, group_keys=False).apply(get_last).reset_index())[\"index\"]"
   ]
  },
  {
   "cell_type": "code",
   "execution_count": 112,
   "id": "70907f3b-fb6e-4365-8aab-49e0daa2b512",
   "metadata": {},
   "outputs": [
    {
     "ename": "AttributeError",
     "evalue": "'DataFrame' object has no attribute 'ix'",
     "output_type": "error",
     "traceback": [
      "\u001b[1;31m---------------------------------------------------------------------------\u001b[0m",
      "\u001b[1;31mAttributeError\u001b[0m                            Traceback (most recent call last)",
      "\u001b[1;32m~\\AppData\\Local\\Temp\\ipykernel_4952\\3410216401.py\u001b[0m in \u001b[0;36m?\u001b[1;34m()\u001b[0m\n\u001b[0;32m      1\u001b[0m \u001b[1;32mdef\u001b[0m \u001b[0mfirst_last\u001b[0m\u001b[1;33m(\u001b[0m\u001b[0mdf\u001b[0m\u001b[1;33m)\u001b[0m\u001b[1;33m:\u001b[0m\u001b[1;33m\u001b[0m\u001b[1;33m\u001b[0m\u001b[0m\n\u001b[0;32m      2\u001b[0m     \u001b[1;32mreturn\u001b[0m \u001b[0mdf\u001b[0m\u001b[1;33m.\u001b[0m\u001b[0mix\u001b[0m\u001b[1;33m[\u001b[0m\u001b[1;33m[\u001b[0m\u001b[1;33m-\u001b[0m\u001b[1;36m1\u001b[0m\u001b[1;33m]\u001b[0m\u001b[1;33m]\u001b[0m\u001b[1;33m\u001b[0m\u001b[1;33m\u001b[0m\u001b[0m\n\u001b[0;32m      3\u001b[0m \u001b[1;33m\u001b[0m\u001b[0m\n\u001b[1;32m----> 4\u001b[1;33m \u001b[0mdf\u001b[0m\u001b[1;33m.\u001b[0m\u001b[0mgroupby\u001b[0m\u001b[1;33m(\u001b[0m\u001b[0mlevel\u001b[0m\u001b[1;33m=\u001b[0m\u001b[1;36m0\u001b[0m\u001b[1;33m,\u001b[0m \u001b[0mgroup_keys\u001b[0m\u001b[1;33m=\u001b[0m\u001b[1;32mFalse\u001b[0m\u001b[1;33m)\u001b[0m\u001b[1;33m.\u001b[0m\u001b[0mapply\u001b[0m\u001b[1;33m(\u001b[0m\u001b[0mfirst_last\u001b[0m\u001b[1;33m)\u001b[0m\u001b[1;33m\u001b[0m\u001b[1;33m\u001b[0m\u001b[0m\n\u001b[0m",
      "\u001b[1;32m~\\Documents\\youtube_analytics\\.venv\\Lib\\site-packages\\pandas\\core\\groupby\\groupby.py\u001b[0m in \u001b[0;36m?\u001b[1;34m(self, func, *args, **kwargs)\u001b[0m\n\u001b[0;32m   1350\u001b[0m         \u001b[1;31m# ignore SettingWithCopy here in case the user mutates\u001b[0m\u001b[1;33m\u001b[0m\u001b[1;33m\u001b[0m\u001b[0m\n\u001b[0;32m   1351\u001b[0m         \u001b[1;32mwith\u001b[0m \u001b[0moption_context\u001b[0m\u001b[1;33m(\u001b[0m\u001b[1;34m\"mode.chained_assignment\"\u001b[0m\u001b[1;33m,\u001b[0m \u001b[1;32mNone\u001b[0m\u001b[1;33m)\u001b[0m\u001b[1;33m:\u001b[0m\u001b[1;33m\u001b[0m\u001b[1;33m\u001b[0m\u001b[0m\n\u001b[0;32m   1352\u001b[0m             \u001b[1;32mtry\u001b[0m\u001b[1;33m:\u001b[0m\u001b[1;33m\u001b[0m\u001b[1;33m\u001b[0m\u001b[0m\n\u001b[0;32m   1353\u001b[0m                 \u001b[0mresult\u001b[0m \u001b[1;33m=\u001b[0m \u001b[0mself\u001b[0m\u001b[1;33m.\u001b[0m\u001b[0m_python_apply_general\u001b[0m\u001b[1;33m(\u001b[0m\u001b[0mf\u001b[0m\u001b[1;33m,\u001b[0m \u001b[0mself\u001b[0m\u001b[1;33m.\u001b[0m\u001b[0m_selected_obj\u001b[0m\u001b[1;33m)\u001b[0m\u001b[1;33m\u001b[0m\u001b[1;33m\u001b[0m\u001b[0m\n\u001b[1;32m-> 1354\u001b[1;33m             \u001b[1;32mexcept\u001b[0m \u001b[0mTypeError\u001b[0m\u001b[1;33m:\u001b[0m\u001b[1;33m\u001b[0m\u001b[1;33m\u001b[0m\u001b[0m\n\u001b[0m\u001b[0;32m   1355\u001b[0m                 \u001b[1;31m# gh-20949\u001b[0m\u001b[1;33m\u001b[0m\u001b[1;33m\u001b[0m\u001b[0m\n\u001b[0;32m   1356\u001b[0m                 \u001b[1;31m# try again, with .apply acting as a filtering\u001b[0m\u001b[1;33m\u001b[0m\u001b[1;33m\u001b[0m\u001b[0m\n\u001b[0;32m   1357\u001b[0m                 \u001b[1;31m# operation, by excluding the grouping column\u001b[0m\u001b[1;33m\u001b[0m\u001b[1;33m\u001b[0m\u001b[0m\n",
      "\u001b[1;32m~\\Documents\\youtube_analytics\\.venv\\Lib\\site-packages\\pandas\\core\\groupby\\groupby.py\u001b[0m in \u001b[0;36m?\u001b[1;34m(self, f, data, not_indexed_same, is_transform, is_agg)\u001b[0m\n\u001b[0;32m   1398\u001b[0m         \u001b[1;33m-\u001b[0m\u001b[1;33m-\u001b[0m\u001b[1;33m-\u001b[0m\u001b[1;33m-\u001b[0m\u001b[1;33m-\u001b[0m\u001b[1;33m-\u001b[0m\u001b[1;33m-\u001b[0m\u001b[1;33m\u001b[0m\u001b[1;33m\u001b[0m\u001b[0m\n\u001b[0;32m   1399\u001b[0m         \u001b[0mSeries\u001b[0m \u001b[1;32mor\u001b[0m \u001b[0mDataFrame\u001b[0m\u001b[1;33m\u001b[0m\u001b[1;33m\u001b[0m\u001b[0m\n\u001b[0;32m   1400\u001b[0m             \u001b[0mdata\u001b[0m \u001b[0mafter\u001b[0m \u001b[0mapplying\u001b[0m \u001b[0mf\u001b[0m\u001b[1;33m\u001b[0m\u001b[1;33m\u001b[0m\u001b[0m\n\u001b[0;32m   1401\u001b[0m         \"\"\"\n\u001b[1;32m-> 1402\u001b[1;33m         \u001b[0mvalues\u001b[0m\u001b[1;33m,\u001b[0m \u001b[0mmutated\u001b[0m \u001b[1;33m=\u001b[0m \u001b[0mself\u001b[0m\u001b[1;33m.\u001b[0m\u001b[0mgrouper\u001b[0m\u001b[1;33m.\u001b[0m\u001b[0mapply\u001b[0m\u001b[1;33m(\u001b[0m\u001b[0mf\u001b[0m\u001b[1;33m,\u001b[0m \u001b[0mdata\u001b[0m\u001b[1;33m,\u001b[0m \u001b[0mself\u001b[0m\u001b[1;33m.\u001b[0m\u001b[0maxis\u001b[0m\u001b[1;33m)\u001b[0m\u001b[1;33m\u001b[0m\u001b[1;33m\u001b[0m\u001b[0m\n\u001b[0m\u001b[0;32m   1403\u001b[0m         \u001b[1;32mif\u001b[0m \u001b[0mnot_indexed_same\u001b[0m \u001b[1;32mis\u001b[0m \u001b[1;32mNone\u001b[0m\u001b[1;33m:\u001b[0m\u001b[1;33m\u001b[0m\u001b[1;33m\u001b[0m\u001b[0m\n\u001b[0;32m   1404\u001b[0m             \u001b[0mnot_indexed_same\u001b[0m \u001b[1;33m=\u001b[0m \u001b[0mmutated\u001b[0m\u001b[1;33m\u001b[0m\u001b[1;33m\u001b[0m\u001b[0m\n\u001b[0;32m   1405\u001b[0m \u001b[1;33m\u001b[0m\u001b[0m\n",
      "\u001b[1;32m~\\Documents\\youtube_analytics\\.venv\\Lib\\site-packages\\pandas\\core\\groupby\\ops.py\u001b[0m in \u001b[0;36m?\u001b[1;34m(self, f, data, axis)\u001b[0m\n\u001b[0;32m    763\u001b[0m             \u001b[0mobject\u001b[0m\u001b[1;33m.\u001b[0m\u001b[0m__setattr__\u001b[0m\u001b[1;33m(\u001b[0m\u001b[0mgroup\u001b[0m\u001b[1;33m,\u001b[0m \u001b[1;34m\"name\"\u001b[0m\u001b[1;33m,\u001b[0m \u001b[0mkey\u001b[0m\u001b[1;33m)\u001b[0m\u001b[1;33m\u001b[0m\u001b[1;33m\u001b[0m\u001b[0m\n\u001b[0;32m    764\u001b[0m \u001b[1;33m\u001b[0m\u001b[0m\n\u001b[0;32m    765\u001b[0m             \u001b[1;31m# group might be modified\u001b[0m\u001b[1;33m\u001b[0m\u001b[1;33m\u001b[0m\u001b[0m\n\u001b[0;32m    766\u001b[0m             \u001b[0mgroup_axes\u001b[0m \u001b[1;33m=\u001b[0m \u001b[0mgroup\u001b[0m\u001b[1;33m.\u001b[0m\u001b[0maxes\u001b[0m\u001b[1;33m\u001b[0m\u001b[1;33m\u001b[0m\u001b[0m\n\u001b[1;32m--> 767\u001b[1;33m             \u001b[0mres\u001b[0m \u001b[1;33m=\u001b[0m \u001b[0mf\u001b[0m\u001b[1;33m(\u001b[0m\u001b[0mgroup\u001b[0m\u001b[1;33m)\u001b[0m\u001b[1;33m\u001b[0m\u001b[1;33m\u001b[0m\u001b[0m\n\u001b[0m\u001b[0;32m    768\u001b[0m             \u001b[1;32mif\u001b[0m \u001b[1;32mnot\u001b[0m \u001b[0mmutated\u001b[0m \u001b[1;32mand\u001b[0m \u001b[1;32mnot\u001b[0m \u001b[0m_is_indexed_like\u001b[0m\u001b[1;33m(\u001b[0m\u001b[0mres\u001b[0m\u001b[1;33m,\u001b[0m \u001b[0mgroup_axes\u001b[0m\u001b[1;33m,\u001b[0m \u001b[0maxis\u001b[0m\u001b[1;33m)\u001b[0m\u001b[1;33m:\u001b[0m\u001b[1;33m\u001b[0m\u001b[1;33m\u001b[0m\u001b[0m\n\u001b[0;32m    769\u001b[0m                 \u001b[0mmutated\u001b[0m \u001b[1;33m=\u001b[0m \u001b[1;32mTrue\u001b[0m\u001b[1;33m\u001b[0m\u001b[1;33m\u001b[0m\u001b[0m\n\u001b[0;32m    770\u001b[0m             \u001b[0mresult_values\u001b[0m\u001b[1;33m.\u001b[0m\u001b[0mappend\u001b[0m\u001b[1;33m(\u001b[0m\u001b[0mres\u001b[0m\u001b[1;33m)\u001b[0m\u001b[1;33m\u001b[0m\u001b[1;33m\u001b[0m\u001b[0m\n",
      "\u001b[1;32m~\\AppData\\Local\\Temp\\ipykernel_4952\\3410216401.py\u001b[0m in \u001b[0;36m?\u001b[1;34m(df)\u001b[0m\n\u001b[0;32m      1\u001b[0m \u001b[1;32mdef\u001b[0m \u001b[0mfirst_last\u001b[0m\u001b[1;33m(\u001b[0m\u001b[0mdf\u001b[0m\u001b[1;33m)\u001b[0m\u001b[1;33m:\u001b[0m\u001b[1;33m\u001b[0m\u001b[1;33m\u001b[0m\u001b[0m\n\u001b[1;32m----> 2\u001b[1;33m     \u001b[1;32mreturn\u001b[0m \u001b[0mdf\u001b[0m\u001b[1;33m.\u001b[0m\u001b[0mix\u001b[0m\u001b[1;33m[\u001b[0m\u001b[1;33m[\u001b[0m\u001b[1;33m-\u001b[0m\u001b[1;36m1\u001b[0m\u001b[1;33m]\u001b[0m\u001b[1;33m]\u001b[0m\u001b[1;33m\u001b[0m\u001b[1;33m\u001b[0m\u001b[0m\n\u001b[0m",
      "\u001b[1;32m~\\Documents\\youtube_analytics\\.venv\\Lib\\site-packages\\pandas\\core\\generic.py\u001b[0m in \u001b[0;36m?\u001b[1;34m(self, name)\u001b[0m\n\u001b[0;32m   5985\u001b[0m             \u001b[1;32mand\u001b[0m \u001b[0mname\u001b[0m \u001b[1;32mnot\u001b[0m \u001b[1;32min\u001b[0m \u001b[0mself\u001b[0m\u001b[1;33m.\u001b[0m\u001b[0m_accessors\u001b[0m\u001b[1;33m\u001b[0m\u001b[1;33m\u001b[0m\u001b[0m\n\u001b[0;32m   5986\u001b[0m             \u001b[1;32mand\u001b[0m \u001b[0mself\u001b[0m\u001b[1;33m.\u001b[0m\u001b[0m_info_axis\u001b[0m\u001b[1;33m.\u001b[0m\u001b[0m_can_hold_identifiers_and_holds_name\u001b[0m\u001b[1;33m(\u001b[0m\u001b[0mname\u001b[0m\u001b[1;33m)\u001b[0m\u001b[1;33m\u001b[0m\u001b[1;33m\u001b[0m\u001b[0m\n\u001b[0;32m   5987\u001b[0m         ):\n\u001b[0;32m   5988\u001b[0m             \u001b[1;32mreturn\u001b[0m \u001b[0mself\u001b[0m\u001b[1;33m[\u001b[0m\u001b[0mname\u001b[0m\u001b[1;33m]\u001b[0m\u001b[1;33m\u001b[0m\u001b[1;33m\u001b[0m\u001b[0m\n\u001b[1;32m-> 5989\u001b[1;33m         \u001b[1;32mreturn\u001b[0m \u001b[0mobject\u001b[0m\u001b[1;33m.\u001b[0m\u001b[0m__getattribute__\u001b[0m\u001b[1;33m(\u001b[0m\u001b[0mself\u001b[0m\u001b[1;33m,\u001b[0m \u001b[0mname\u001b[0m\u001b[1;33m)\u001b[0m\u001b[1;33m\u001b[0m\u001b[1;33m\u001b[0m\u001b[0m\n\u001b[0m",
      "\u001b[1;31mAttributeError\u001b[0m: 'DataFrame' object has no attribute 'ix'"
     ]
    }
   ],
   "source": [
    "def get_last(df):\n",
    "    return df.ix[[-1]]\n",
    "\n",
    "df.groupby(level=0, group_keys=False).apply(first_last)"
   ]
  },
  {
   "cell_type": "code",
   "execution_count": 94,
   "id": "49f0c66a-84f7-45b9-8577-f384374943ee",
   "metadata": {},
   "outputs": [
    {
     "data": {
      "text/html": [
       "<div>\n",
       "<style scoped>\n",
       "    .dataframe tbody tr th:only-of-type {\n",
       "        vertical-align: middle;\n",
       "    }\n",
       "\n",
       "    .dataframe tbody tr th {\n",
       "        vertical-align: top;\n",
       "    }\n",
       "\n",
       "    .dataframe thead th {\n",
       "        text-align: right;\n",
       "    }\n",
       "</style>\n",
       "<table border=\"1\" class=\"dataframe\">\n",
       "  <thead>\n",
       "    <tr style=\"text-align: right;\">\n",
       "      <th></th>\n",
       "      <th>video_id</th>\n",
       "      <th>trending_date</th>\n",
       "      <th>title</th>\n",
       "      <th>channel_title</th>\n",
       "      <th>category_id</th>\n",
       "      <th>publish_time</th>\n",
       "      <th>tags</th>\n",
       "      <th>views</th>\n",
       "      <th>likes</th>\n",
       "      <th>dislikes</th>\n",
       "      <th>...</th>\n",
       "      <th>description</th>\n",
       "      <th>id</th>\n",
       "      <th>snippet/title</th>\n",
       "      <th>PublishTime</th>\n",
       "      <th>publish_date</th>\n",
       "      <th>publish_weekday</th>\n",
       "      <th>publish_hour</th>\n",
       "      <th>publish_month</th>\n",
       "      <th>engagement</th>\n",
       "      <th>video_age</th>\n",
       "    </tr>\n",
       "  </thead>\n",
       "  <tbody>\n",
       "    <tr>\n",
       "      <th>0</th>\n",
       "      <td>kzwfHumJyYc</td>\n",
       "      <td>17.14.11</td>\n",
       "      <td>Sharry Mann: Cute Munda ( Song Teaser) | Parmi...</td>\n",
       "      <td>Lokdhun Punjabi</td>\n",
       "      <td>1</td>\n",
       "      <td>2017-11-12T12:20:39.000Z</td>\n",
       "      <td>sharry mann|\"sharry mann new song\"|\"sharry man...</td>\n",
       "      <td>1096327</td>\n",
       "      <td>33966</td>\n",
       "      <td>798</td>\n",
       "      <td>...</td>\n",
       "      <td>Presenting Sharry Mann latest Punjabi Song  Cu...</td>\n",
       "      <td>1</td>\n",
       "      <td>Film &amp; Animation</td>\n",
       "      <td>2017-11-12 12:20:39</td>\n",
       "      <td>12-11-2017</td>\n",
       "      <td>Sunday</td>\n",
       "      <td>&lt;bound method PandasDelegate._add_delegate_acc...</td>\n",
       "      <td>November</td>\n",
       "      <td>35646</td>\n",
       "      <td>1</td>\n",
       "    </tr>\n",
       "    <tr>\n",
       "      <th>1</th>\n",
       "      <td>zUZ1z7FwLc8</td>\n",
       "      <td>17.14.11</td>\n",
       "      <td>पीरियड्स के समय, पेट पर पति करता ऐसा, देखकर दं...</td>\n",
       "      <td>HJ NEWS</td>\n",
       "      <td>25</td>\n",
       "      <td>2017-11-13T05:43:56.000Z</td>\n",
       "      <td>पीरियड्स के समय|\"पेट पर पति करता ऐसा\"|\"देखकर द...</td>\n",
       "      <td>590101</td>\n",
       "      <td>735</td>\n",
       "      <td>904</td>\n",
       "      <td>...</td>\n",
       "      <td>पीरियड्स के समय, पेट पर पति करता ऐसा, देखकर दं...</td>\n",
       "      <td>25</td>\n",
       "      <td>News &amp; Politics</td>\n",
       "      <td>2017-11-13 05:43:56</td>\n",
       "      <td>13-11-2017</td>\n",
       "      <td>Monday</td>\n",
       "      <td>&lt;bound method PandasDelegate._add_delegate_acc...</td>\n",
       "      <td>November</td>\n",
       "      <td>1639</td>\n",
       "      <td>1</td>\n",
       "    </tr>\n",
       "    <tr>\n",
       "      <th>2</th>\n",
       "      <td>10L1hZ9qa58</td>\n",
       "      <td>17.14.11</td>\n",
       "      <td>Stylish Star Allu Arjun @ ChaySam Wedding Rece...</td>\n",
       "      <td>TFPC</td>\n",
       "      <td>24</td>\n",
       "      <td>2017-11-12T15:48:08.000Z</td>\n",
       "      <td>Stylish Star Allu Arjun @ ChaySam Wedding Rece...</td>\n",
       "      <td>473988</td>\n",
       "      <td>2011</td>\n",
       "      <td>243</td>\n",
       "      <td>...</td>\n",
       "      <td>Watch Stylish Star Allu Arjun @ ChaySam Weddin...</td>\n",
       "      <td>24</td>\n",
       "      <td>Entertainment</td>\n",
       "      <td>2017-11-12 15:48:08</td>\n",
       "      <td>12-11-2017</td>\n",
       "      <td>Sunday</td>\n",
       "      <td>&lt;bound method PandasDelegate._add_delegate_acc...</td>\n",
       "      <td>November</td>\n",
       "      <td>2403</td>\n",
       "      <td>1</td>\n",
       "    </tr>\n",
       "    <tr>\n",
       "      <th>3</th>\n",
       "      <td>N1vE8iiEg64</td>\n",
       "      <td>17.14.11</td>\n",
       "      <td>Eruma Saani | Tamil vs English</td>\n",
       "      <td>Eruma Saani</td>\n",
       "      <td>23</td>\n",
       "      <td>2017-11-12T07:08:48.000Z</td>\n",
       "      <td>Eruma Saani|\"Tamil Comedy Videos\"|\"Films\"|\"Mov...</td>\n",
       "      <td>1242680</td>\n",
       "      <td>70353</td>\n",
       "      <td>1624</td>\n",
       "      <td>...</td>\n",
       "      <td>This video showcases the difference between pe...</td>\n",
       "      <td>23</td>\n",
       "      <td>Comedy</td>\n",
       "      <td>2017-11-12 07:08:48</td>\n",
       "      <td>12-11-2017</td>\n",
       "      <td>Sunday</td>\n",
       "      <td>&lt;bound method PandasDelegate._add_delegate_acc...</td>\n",
       "      <td>November</td>\n",
       "      <td>74661</td>\n",
       "      <td>1</td>\n",
       "    </tr>\n",
       "    <tr>\n",
       "      <th>4</th>\n",
       "      <td>kJzGH0PVQHQ</td>\n",
       "      <td>17.14.11</td>\n",
       "      <td>why Samantha became EMOTIONAL @ Samantha naga ...</td>\n",
       "      <td>Filmylooks</td>\n",
       "      <td>24</td>\n",
       "      <td>2017-11-13T01:14:16.000Z</td>\n",
       "      <td>Filmylooks|\"latest news\"|\"telugu movies\"|\"telu...</td>\n",
       "      <td>464015</td>\n",
       "      <td>492</td>\n",
       "      <td>293</td>\n",
       "      <td>...</td>\n",
       "      <td>why Samantha became EMOTIONAL @ Samantha naga ...</td>\n",
       "      <td>24</td>\n",
       "      <td>Entertainment</td>\n",
       "      <td>2017-11-13 01:14:16</td>\n",
       "      <td>13-11-2017</td>\n",
       "      <td>Monday</td>\n",
       "      <td>&lt;bound method PandasDelegate._add_delegate_acc...</td>\n",
       "      <td>November</td>\n",
       "      <td>851</td>\n",
       "      <td>1</td>\n",
       "    </tr>\n",
       "  </tbody>\n",
       "</table>\n",
       "<p>5 rows × 25 columns</p>\n",
       "</div>"
      ],
      "text/plain": [
       "      video_id trending_date  \\\n",
       "0  kzwfHumJyYc      17.14.11   \n",
       "1  zUZ1z7FwLc8      17.14.11   \n",
       "2  10L1hZ9qa58      17.14.11   \n",
       "3  N1vE8iiEg64      17.14.11   \n",
       "4  kJzGH0PVQHQ      17.14.11   \n",
       "\n",
       "                                               title    channel_title  \\\n",
       "0  Sharry Mann: Cute Munda ( Song Teaser) | Parmi...  Lokdhun Punjabi   \n",
       "1  पीरियड्स के समय, पेट पर पति करता ऐसा, देखकर दं...          HJ NEWS   \n",
       "2  Stylish Star Allu Arjun @ ChaySam Wedding Rece...             TFPC   \n",
       "3                     Eruma Saani | Tamil vs English      Eruma Saani   \n",
       "4  why Samantha became EMOTIONAL @ Samantha naga ...       Filmylooks   \n",
       "\n",
       "   category_id              publish_time  \\\n",
       "0            1  2017-11-12T12:20:39.000Z   \n",
       "1           25  2017-11-13T05:43:56.000Z   \n",
       "2           24  2017-11-12T15:48:08.000Z   \n",
       "3           23  2017-11-12T07:08:48.000Z   \n",
       "4           24  2017-11-13T01:14:16.000Z   \n",
       "\n",
       "                                                tags    views  likes  \\\n",
       "0  sharry mann|\"sharry mann new song\"|\"sharry man...  1096327  33966   \n",
       "1  पीरियड्स के समय|\"पेट पर पति करता ऐसा\"|\"देखकर द...   590101    735   \n",
       "2  Stylish Star Allu Arjun @ ChaySam Wedding Rece...   473988   2011   \n",
       "3  Eruma Saani|\"Tamil Comedy Videos\"|\"Films\"|\"Mov...  1242680  70353   \n",
       "4  Filmylooks|\"latest news\"|\"telugu movies\"|\"telu...   464015    492   \n",
       "\n",
       "   dislikes  ...                                        description  id  \\\n",
       "0       798  ...  Presenting Sharry Mann latest Punjabi Song  Cu...   1   \n",
       "1       904  ...  पीरियड्स के समय, पेट पर पति करता ऐसा, देखकर दं...  25   \n",
       "2       243  ...  Watch Stylish Star Allu Arjun @ ChaySam Weddin...  24   \n",
       "3      1624  ...  This video showcases the difference between pe...  23   \n",
       "4       293  ...  why Samantha became EMOTIONAL @ Samantha naga ...  24   \n",
       "\n",
       "      snippet/title         PublishTime  publish_date publish_weekday  \\\n",
       "0  Film & Animation 2017-11-12 12:20:39    12-11-2017          Sunday   \n",
       "1   News & Politics 2017-11-13 05:43:56    13-11-2017          Monday   \n",
       "2     Entertainment 2017-11-12 15:48:08    12-11-2017          Sunday   \n",
       "3            Comedy 2017-11-12 07:08:48    12-11-2017          Sunday   \n",
       "4     Entertainment 2017-11-13 01:14:16    13-11-2017          Monday   \n",
       "\n",
       "                                        publish_hour publish_month engagement  \\\n",
       "0  <bound method PandasDelegate._add_delegate_acc...      November      35646   \n",
       "1  <bound method PandasDelegate._add_delegate_acc...      November       1639   \n",
       "2  <bound method PandasDelegate._add_delegate_acc...      November       2403   \n",
       "3  <bound method PandasDelegate._add_delegate_acc...      November      74661   \n",
       "4  <bound method PandasDelegate._add_delegate_acc...      November        851   \n",
       "\n",
       "  video_age  \n",
       "0         1  \n",
       "1         1  \n",
       "2         1  \n",
       "3         1  \n",
       "4         1  \n",
       "\n",
       "[5 rows x 25 columns]"
      ]
     },
     "execution_count": 94,
     "metadata": {},
     "output_type": "execute_result"
    }
   ],
   "source": [
    "india_df.head()"
   ]
  },
  {
   "cell_type": "code",
   "execution_count": 186,
   "id": "5fd315a1-d875-4d2b-baf2-22ceac317636",
   "metadata": {},
   "outputs": [
    {
     "data": {
      "text/plain": [
       "0        November\n",
       "1        November\n",
       "2        November\n",
       "3        November\n",
       "4        November\n",
       "           ...   \n",
       "37347        June\n",
       "37348        June\n",
       "37349        June\n",
       "37350        June\n",
       "37351        June\n",
       "Name: PublishTime, Length: 36834, dtype: object"
      ]
     },
     "execution_count": 186,
     "metadata": {},
     "output_type": "execute_result"
    }
   ],
   "source": [
    "india_df['PublishTime'].dt.month_name()"
   ]
  },
  {
   "cell_type": "code",
   "execution_count": 95,
   "id": "656b353d-d68b-42cc-ad1d-2cbb6b2e53bd",
   "metadata": {},
   "outputs": [
    {
     "data": {
      "text/plain": [
       "(36834, 18)"
      ]
     },
     "execution_count": 95,
     "metadata": {},
     "output_type": "execute_result"
    }
   ],
   "source": [
    "india_df.shape"
   ]
  },
  {
   "cell_type": "code",
   "execution_count": 96,
   "id": "5243175a-a4ab-415e-9d37-8ee2516f07e3",
   "metadata": {},
   "outputs": [],
   "source": [
    "# calculate engagement\n",
    "india_df[\"engagement\"] = india_df[\"likes\"] + india_df[\"dislikes\"] + india_df[\"comment_count\"]\n",
    "usa_df[\"engagement\"] = usa_df[\"likes\"] + usa_df[\"dislikes\"] + usa_df[\"comment_count\"]\n",
    "india_df[\"age\"] = 1\n",
    "usa_df[\"age\"] = 1"
   ]
  },
  {
   "cell_type": "code",
   "execution_count": 97,
   "id": "0080523d-2f06-4238-8382-8354bb995653",
   "metadata": {},
   "outputs": [
    {
     "data": {
      "text/plain": [
       "1423"
      ]
     },
     "execution_count": 97,
     "metadata": {},
     "output_type": "execute_result"
    }
   ],
   "source": [
    "india_df[\"channel_title\"].nunique()"
   ]
  },
  {
   "cell_type": "code",
   "execution_count": 195,
   "id": "65b31b0c-28a0-4f07-9a21-d7cd0523025d",
   "metadata": {},
   "outputs": [
    {
     "data": {
      "text/plain": [
       "31331.814872129013"
      ]
     },
     "execution_count": 195,
     "metadata": {},
     "output_type": "execute_result"
    }
   ],
   "source": [
    "india_df[\"engagement\"].mean()"
   ]
  },
  {
   "cell_type": "code",
   "execution_count": 99,
   "id": "183a4638-f84a-417b-aa1e-dc65c98753e7",
   "metadata": {},
   "outputs": [
    {
     "data": {
      "text/plain": [
       "16305"
      ]
     },
     "execution_count": 99,
     "metadata": {},
     "output_type": "execute_result"
    }
   ],
   "source": [
    "india_df[\"video_id\"].nunique()"
   ]
  },
  {
   "cell_type": "code",
   "execution_count": 23,
   "id": "41348ffd-c4af-438e-a6a6-fa6e3d2f2c6f",
   "metadata": {},
   "outputs": [],
   "source": [
    "india_df = clean_create_neccessary_columns(df=india_df)"
   ]
  },
  {
   "cell_type": "code",
   "execution_count": 30,
   "id": "05394f61-73d3-46bb-8824-eea45eaed2b7",
   "metadata": {},
   "outputs": [
    {
     "data": {
      "text/plain": [
       "2"
      ]
     },
     "execution_count": 30,
     "metadata": {},
     "output_type": "execute_result"
    }
   ],
   "source": [
    "int(india_df.groupby([\"video_id\"]).agg({\"video_age\": sum}).reset_index()[\"video_age\"].mean())"
   ]
  },
  {
   "cell_type": "code",
   "execution_count": 100,
   "id": "5c98b8ed-aad3-4630-94d1-3294f0a78b7b",
   "metadata": {},
   "outputs": [
    {
     "data": {
      "text/html": [
       "<div>\n",
       "<style scoped>\n",
       "    .dataframe tbody tr th:only-of-type {\n",
       "        vertical-align: middle;\n",
       "    }\n",
       "\n",
       "    .dataframe tbody tr th {\n",
       "        vertical-align: top;\n",
       "    }\n",
       "\n",
       "    .dataframe thead th {\n",
       "        text-align: right;\n",
       "    }\n",
       "</style>\n",
       "<table border=\"1\" class=\"dataframe\">\n",
       "  <thead>\n",
       "    <tr style=\"text-align: right;\">\n",
       "      <th></th>\n",
       "      <th>video_id</th>\n",
       "      <th>engagement</th>\n",
       "      <th>age</th>\n",
       "    </tr>\n",
       "    <tr>\n",
       "      <th>video_id</th>\n",
       "      <th></th>\n",
       "      <th></th>\n",
       "      <th></th>\n",
       "    </tr>\n",
       "  </thead>\n",
       "  <tbody>\n",
       "    <tr>\n",
       "      <th>-0N9r10xb_0</th>\n",
       "      <td>2</td>\n",
       "      <td>2827</td>\n",
       "      <td>2</td>\n",
       "    </tr>\n",
       "    <tr>\n",
       "      <th>-0WuM6ctLHg</th>\n",
       "      <td>3</td>\n",
       "      <td>11729</td>\n",
       "      <td>3</td>\n",
       "    </tr>\n",
       "    <tr>\n",
       "      <th>-0mcgX4ro7I</th>\n",
       "      <td>2</td>\n",
       "      <td>2527</td>\n",
       "      <td>2</td>\n",
       "    </tr>\n",
       "    <tr>\n",
       "      <th>-0neBEVK-3Y</th>\n",
       "      <td>5</td>\n",
       "      <td>12659</td>\n",
       "      <td>5</td>\n",
       "    </tr>\n",
       "    <tr>\n",
       "      <th>-0qWaHPYLRc</th>\n",
       "      <td>1</td>\n",
       "      <td>473</td>\n",
       "      <td>1</td>\n",
       "    </tr>\n",
       "    <tr>\n",
       "      <th>...</th>\n",
       "      <td>...</td>\n",
       "      <td>...</td>\n",
       "      <td>...</td>\n",
       "    </tr>\n",
       "    <tr>\n",
       "      <th>zykZhNk7BNQ</th>\n",
       "      <td>1</td>\n",
       "      <td>361</td>\n",
       "      <td>1</td>\n",
       "    </tr>\n",
       "    <tr>\n",
       "      <th>zys43i_RKHM</th>\n",
       "      <td>2</td>\n",
       "      <td>1966</td>\n",
       "      <td>2</td>\n",
       "    </tr>\n",
       "    <tr>\n",
       "      <th>zyvYkpoLeSU</th>\n",
       "      <td>3</td>\n",
       "      <td>834</td>\n",
       "      <td>3</td>\n",
       "    </tr>\n",
       "    <tr>\n",
       "      <th>zz6Nqy4SM3E</th>\n",
       "      <td>2</td>\n",
       "      <td>19988</td>\n",
       "      <td>2</td>\n",
       "    </tr>\n",
       "    <tr>\n",
       "      <th>zzcAq02ncAE</th>\n",
       "      <td>1</td>\n",
       "      <td>10921</td>\n",
       "      <td>1</td>\n",
       "    </tr>\n",
       "  </tbody>\n",
       "</table>\n",
       "<p>16305 rows × 3 columns</p>\n",
       "</div>"
      ],
      "text/plain": [
       "             video_id  engagement  age\n",
       "video_id                              \n",
       "-0N9r10xb_0         2        2827    2\n",
       "-0WuM6ctLHg         3       11729    3\n",
       "-0mcgX4ro7I         2        2527    2\n",
       "-0neBEVK-3Y         5       12659    5\n",
       "-0qWaHPYLRc         1         473    1\n",
       "...               ...         ...  ...\n",
       "zykZhNk7BNQ         1         361    1\n",
       "zys43i_RKHM         2        1966    2\n",
       "zyvYkpoLeSU         3         834    3\n",
       "zz6Nqy4SM3E         2       19988    2\n",
       "zzcAq02ncAE         1       10921    1\n",
       "\n",
       "[16305 rows x 3 columns]"
      ]
     },
     "execution_count": 100,
     "metadata": {},
     "output_type": "execute_result"
    }
   ],
   "source": [
    "india_df.groupby([\"video_id\"]).agg({\"video_id\": \"count\", \"engagement\": sum, \"age\": sum}).reindex()"
   ]
  },
  {
   "cell_type": "code",
   "execution_count": 105,
   "id": "5b0f692b-3ea2-4a3e-bb9a-a4e4fb353b5f",
   "metadata": {},
   "outputs": [
    {
     "data": {
      "text/plain": [
       "0        2017-11-12T12:20:39.000Z\n",
       "1        2017-11-13T05:43:56.000Z\n",
       "2        2017-11-12T15:48:08.000Z\n",
       "3        2017-11-12T07:08:48.000Z\n",
       "4        2017-11-13T01:14:16.000Z\n",
       "                   ...           \n",
       "37347    2018-06-13T08:01:11.000Z\n",
       "37348    2018-06-13T11:30:04.000Z\n",
       "37349    2018-06-13T05:00:02.000Z\n",
       "37350    2018-06-13T15:07:49.000Z\n",
       "37351    2018-06-10T04:29:54.000Z\n",
       "Name: publish_time, Length: 36834, dtype: object"
      ]
     },
     "execution_count": 105,
     "metadata": {},
     "output_type": "execute_result"
    }
   ],
   "source": [
    "india_df[\"publish_time\"]"
   ]
  },
  {
   "cell_type": "code",
   "execution_count": 8,
   "id": "aecd37fb-ef07-43cc-97f2-db44591a5b8c",
   "metadata": {},
   "outputs": [],
   "source": [
    "india_df[\"PublishTime\"] = pd.to_datetime(india_df['publish_time'], format='%Y-%m-%dT%H:%M:%S.%fZ')"
   ]
  },
  {
   "cell_type": "code",
   "execution_count": 9,
   "id": "f57ec9c5-9f14-42ee-aa40-97d63c965d3c",
   "metadata": {},
   "outputs": [],
   "source": [
    "india_df[\"publish_date\"] =india_df['PublishTime'].dt.strftime('%d-%m-%Y')"
   ]
  },
  {
   "cell_type": "code",
   "execution_count": 11,
   "id": "e4330dac-9cbe-4b66-b034-4c94334a9f61",
   "metadata": {},
   "outputs": [
    {
     "data": {
      "text/html": [
       "<div>\n",
       "<style scoped>\n",
       "    .dataframe tbody tr th:only-of-type {\n",
       "        vertical-align: middle;\n",
       "    }\n",
       "\n",
       "    .dataframe tbody tr th {\n",
       "        vertical-align: top;\n",
       "    }\n",
       "\n",
       "    .dataframe thead th {\n",
       "        text-align: right;\n",
       "    }\n",
       "</style>\n",
       "<table border=\"1\" class=\"dataframe\">\n",
       "  <thead>\n",
       "    <tr style=\"text-align: right;\">\n",
       "      <th></th>\n",
       "      <th>video_id</th>\n",
       "      <th>trending_date</th>\n",
       "      <th>title</th>\n",
       "      <th>channel_title</th>\n",
       "      <th>category_id</th>\n",
       "      <th>publish_time</th>\n",
       "      <th>tags</th>\n",
       "      <th>views</th>\n",
       "      <th>likes</th>\n",
       "      <th>dislikes</th>\n",
       "      <th>comment_count</th>\n",
       "      <th>thumbnail_link</th>\n",
       "      <th>comments_disabled</th>\n",
       "      <th>ratings_disabled</th>\n",
       "      <th>video_error_or_removed</th>\n",
       "      <th>description</th>\n",
       "      <th>id</th>\n",
       "      <th>snippet/title</th>\n",
       "      <th>PublishTime</th>\n",
       "      <th>publish_date</th>\n",
       "    </tr>\n",
       "  </thead>\n",
       "  <tbody>\n",
       "    <tr>\n",
       "      <th>0</th>\n",
       "      <td>kzwfHumJyYc</td>\n",
       "      <td>17.14.11</td>\n",
       "      <td>Sharry Mann: Cute Munda ( Song Teaser) | Parmi...</td>\n",
       "      <td>Lokdhun Punjabi</td>\n",
       "      <td>1</td>\n",
       "      <td>2017-11-12T12:20:39.000Z</td>\n",
       "      <td>sharry mann|\"sharry mann new song\"|\"sharry man...</td>\n",
       "      <td>1096327</td>\n",
       "      <td>33966</td>\n",
       "      <td>798</td>\n",
       "      <td>882</td>\n",
       "      <td>https://i.ytimg.com/vi/kzwfHumJyYc/default.jpg</td>\n",
       "      <td>False</td>\n",
       "      <td>False</td>\n",
       "      <td>False</td>\n",
       "      <td>Presenting Sharry Mann latest Punjabi Song  Cu...</td>\n",
       "      <td>1</td>\n",
       "      <td>Film &amp; Animation</td>\n",
       "      <td>2017-11-12 12:20:39</td>\n",
       "      <td>12-11-2017</td>\n",
       "    </tr>\n",
       "    <tr>\n",
       "      <th>1</th>\n",
       "      <td>zUZ1z7FwLc8</td>\n",
       "      <td>17.14.11</td>\n",
       "      <td>पीरियड्स के समय, पेट पर पति करता ऐसा, देखकर दं...</td>\n",
       "      <td>HJ NEWS</td>\n",
       "      <td>25</td>\n",
       "      <td>2017-11-13T05:43:56.000Z</td>\n",
       "      <td>पीरियड्स के समय|\"पेट पर पति करता ऐसा\"|\"देखकर द...</td>\n",
       "      <td>590101</td>\n",
       "      <td>735</td>\n",
       "      <td>904</td>\n",
       "      <td>0</td>\n",
       "      <td>https://i.ytimg.com/vi/zUZ1z7FwLc8/default.jpg</td>\n",
       "      <td>True</td>\n",
       "      <td>False</td>\n",
       "      <td>False</td>\n",
       "      <td>पीरियड्स के समय, पेट पर पति करता ऐसा, देखकर दं...</td>\n",
       "      <td>25</td>\n",
       "      <td>News &amp; Politics</td>\n",
       "      <td>2017-11-13 05:43:56</td>\n",
       "      <td>13-11-2017</td>\n",
       "    </tr>\n",
       "    <tr>\n",
       "      <th>2</th>\n",
       "      <td>10L1hZ9qa58</td>\n",
       "      <td>17.14.11</td>\n",
       "      <td>Stylish Star Allu Arjun @ ChaySam Wedding Rece...</td>\n",
       "      <td>TFPC</td>\n",
       "      <td>24</td>\n",
       "      <td>2017-11-12T15:48:08.000Z</td>\n",
       "      <td>Stylish Star Allu Arjun @ ChaySam Wedding Rece...</td>\n",
       "      <td>473988</td>\n",
       "      <td>2011</td>\n",
       "      <td>243</td>\n",
       "      <td>149</td>\n",
       "      <td>https://i.ytimg.com/vi/10L1hZ9qa58/default.jpg</td>\n",
       "      <td>False</td>\n",
       "      <td>False</td>\n",
       "      <td>False</td>\n",
       "      <td>Watch Stylish Star Allu Arjun @ ChaySam Weddin...</td>\n",
       "      <td>24</td>\n",
       "      <td>Entertainment</td>\n",
       "      <td>2017-11-12 15:48:08</td>\n",
       "      <td>12-11-2017</td>\n",
       "    </tr>\n",
       "    <tr>\n",
       "      <th>3</th>\n",
       "      <td>N1vE8iiEg64</td>\n",
       "      <td>17.14.11</td>\n",
       "      <td>Eruma Saani | Tamil vs English</td>\n",
       "      <td>Eruma Saani</td>\n",
       "      <td>23</td>\n",
       "      <td>2017-11-12T07:08:48.000Z</td>\n",
       "      <td>Eruma Saani|\"Tamil Comedy Videos\"|\"Films\"|\"Mov...</td>\n",
       "      <td>1242680</td>\n",
       "      <td>70353</td>\n",
       "      <td>1624</td>\n",
       "      <td>2684</td>\n",
       "      <td>https://i.ytimg.com/vi/N1vE8iiEg64/default.jpg</td>\n",
       "      <td>False</td>\n",
       "      <td>False</td>\n",
       "      <td>False</td>\n",
       "      <td>This video showcases the difference between pe...</td>\n",
       "      <td>23</td>\n",
       "      <td>Comedy</td>\n",
       "      <td>2017-11-12 07:08:48</td>\n",
       "      <td>12-11-2017</td>\n",
       "    </tr>\n",
       "    <tr>\n",
       "      <th>4</th>\n",
       "      <td>kJzGH0PVQHQ</td>\n",
       "      <td>17.14.11</td>\n",
       "      <td>why Samantha became EMOTIONAL @ Samantha naga ...</td>\n",
       "      <td>Filmylooks</td>\n",
       "      <td>24</td>\n",
       "      <td>2017-11-13T01:14:16.000Z</td>\n",
       "      <td>Filmylooks|\"latest news\"|\"telugu movies\"|\"telu...</td>\n",
       "      <td>464015</td>\n",
       "      <td>492</td>\n",
       "      <td>293</td>\n",
       "      <td>66</td>\n",
       "      <td>https://i.ytimg.com/vi/kJzGH0PVQHQ/default.jpg</td>\n",
       "      <td>False</td>\n",
       "      <td>False</td>\n",
       "      <td>False</td>\n",
       "      <td>why Samantha became EMOTIONAL @ Samantha naga ...</td>\n",
       "      <td>24</td>\n",
       "      <td>Entertainment</td>\n",
       "      <td>2017-11-13 01:14:16</td>\n",
       "      <td>13-11-2017</td>\n",
       "    </tr>\n",
       "  </tbody>\n",
       "</table>\n",
       "</div>"
      ],
      "text/plain": [
       "      video_id trending_date  \\\n",
       "0  kzwfHumJyYc      17.14.11   \n",
       "1  zUZ1z7FwLc8      17.14.11   \n",
       "2  10L1hZ9qa58      17.14.11   \n",
       "3  N1vE8iiEg64      17.14.11   \n",
       "4  kJzGH0PVQHQ      17.14.11   \n",
       "\n",
       "                                               title    channel_title  \\\n",
       "0  Sharry Mann: Cute Munda ( Song Teaser) | Parmi...  Lokdhun Punjabi   \n",
       "1  पीरियड्स के समय, पेट पर पति करता ऐसा, देखकर दं...          HJ NEWS   \n",
       "2  Stylish Star Allu Arjun @ ChaySam Wedding Rece...             TFPC   \n",
       "3                     Eruma Saani | Tamil vs English      Eruma Saani   \n",
       "4  why Samantha became EMOTIONAL @ Samantha naga ...       Filmylooks   \n",
       "\n",
       "   category_id              publish_time  \\\n",
       "0            1  2017-11-12T12:20:39.000Z   \n",
       "1           25  2017-11-13T05:43:56.000Z   \n",
       "2           24  2017-11-12T15:48:08.000Z   \n",
       "3           23  2017-11-12T07:08:48.000Z   \n",
       "4           24  2017-11-13T01:14:16.000Z   \n",
       "\n",
       "                                                tags    views  likes  \\\n",
       "0  sharry mann|\"sharry mann new song\"|\"sharry man...  1096327  33966   \n",
       "1  पीरियड्स के समय|\"पेट पर पति करता ऐसा\"|\"देखकर द...   590101    735   \n",
       "2  Stylish Star Allu Arjun @ ChaySam Wedding Rece...   473988   2011   \n",
       "3  Eruma Saani|\"Tamil Comedy Videos\"|\"Films\"|\"Mov...  1242680  70353   \n",
       "4  Filmylooks|\"latest news\"|\"telugu movies\"|\"telu...   464015    492   \n",
       "\n",
       "   dislikes  comment_count                                  thumbnail_link  \\\n",
       "0       798            882  https://i.ytimg.com/vi/kzwfHumJyYc/default.jpg   \n",
       "1       904              0  https://i.ytimg.com/vi/zUZ1z7FwLc8/default.jpg   \n",
       "2       243            149  https://i.ytimg.com/vi/10L1hZ9qa58/default.jpg   \n",
       "3      1624           2684  https://i.ytimg.com/vi/N1vE8iiEg64/default.jpg   \n",
       "4       293             66  https://i.ytimg.com/vi/kJzGH0PVQHQ/default.jpg   \n",
       "\n",
       "   comments_disabled  ratings_disabled  video_error_or_removed  \\\n",
       "0              False             False                   False   \n",
       "1               True             False                   False   \n",
       "2              False             False                   False   \n",
       "3              False             False                   False   \n",
       "4              False             False                   False   \n",
       "\n",
       "                                         description  id     snippet/title  \\\n",
       "0  Presenting Sharry Mann latest Punjabi Song  Cu...   1  Film & Animation   \n",
       "1  पीरियड्स के समय, पेट पर पति करता ऐसा, देखकर दं...  25   News & Politics   \n",
       "2  Watch Stylish Star Allu Arjun @ ChaySam Weddin...  24     Entertainment   \n",
       "3  This video showcases the difference between pe...  23            Comedy   \n",
       "4  why Samantha became EMOTIONAL @ Samantha naga ...  24     Entertainment   \n",
       "\n",
       "          PublishTime publish_date  \n",
       "0 2017-11-12 12:20:39   12-11-2017  \n",
       "1 2017-11-13 05:43:56   13-11-2017  \n",
       "2 2017-11-12 15:48:08   12-11-2017  \n",
       "3 2017-11-12 07:08:48   12-11-2017  \n",
       "4 2017-11-13 01:14:16   13-11-2017  "
      ]
     },
     "execution_count": 11,
     "metadata": {},
     "output_type": "execute_result"
    }
   ],
   "source": [
    "india_df.head()"
   ]
  },
  {
   "cell_type": "code",
   "execution_count": 18,
   "id": "533b64e8-b085-4955-ba01-1fb6297eea00",
   "metadata": {},
   "outputs": [
    {
     "data": {
      "text/plain": [
       "170"
      ]
     },
     "execution_count": 18,
     "metadata": {},
     "output_type": "execute_result"
    }
   ],
   "source": [
    "int(pd.DataFrame(india_df.groupby([\"publish_date\"])[\"video_id\"].count().reset_index())[\"video_id\"].mean())"
   ]
  },
  {
   "cell_type": "code",
   "execution_count": 7,
   "id": "ce9ae740-5ae7-41a1-8fd1-e106ed719884",
   "metadata": {},
   "outputs": [
    {
     "ename": "NameError",
     "evalue": "name 'publish_ind' is not defined",
     "output_type": "error",
     "traceback": [
      "\u001b[1;31m---------------------------------------------------------------------------\u001b[0m",
      "\u001b[1;31mNameError\u001b[0m                                 Traceback (most recent call last)",
      "Cell \u001b[1;32mIn[7], line 1\u001b[0m\n\u001b[1;32m----> 1\u001b[0m \u001b[38;5;28mtype\u001b[39m(\u001b[43mpublish_ind\u001b[49m)\n",
      "\u001b[1;31mNameError\u001b[0m: name 'publish_ind' is not defined"
     ]
    }
   ],
   "source": [
    "type(publish_ind)"
   ]
  },
  {
   "cell_type": "code",
   "execution_count": 164,
   "id": "919f10fe-ca05-4554-b1c7-446f111d781b",
   "metadata": {},
   "outputs": [],
   "source": [
    "publish_ind.columns = [\"publish_date\", \"\"]"
   ]
  },
  {
   "cell_type": "code",
   "execution_count": 165,
   "id": "cee1a06c-91fc-47e5-ba7a-321dae236382",
   "metadata": {},
   "outputs": [
    {
     "data": {
      "text/html": [
       "<div>\n",
       "<style scoped>\n",
       "    .dataframe tbody tr th:only-of-type {\n",
       "        vertical-align: middle;\n",
       "    }\n",
       "\n",
       "    .dataframe tbody tr th {\n",
       "        vertical-align: top;\n",
       "    }\n",
       "\n",
       "    .dataframe thead th {\n",
       "        text-align: right;\n",
       "    }\n",
       "</style>\n",
       "<table border=\"1\" class=\"dataframe\">\n",
       "  <thead>\n",
       "    <tr style=\"text-align: right;\">\n",
       "      <th></th>\n",
       "      <th>publish_date</th>\n",
       "      <th>count</th>\n",
       "    </tr>\n",
       "  </thead>\n",
       "  <tbody>\n",
       "    <tr>\n",
       "      <th>0</th>\n",
       "      <td>01-01-2018</td>\n",
       "      <td>154</td>\n",
       "    </tr>\n",
       "    <tr>\n",
       "      <th>1</th>\n",
       "      <td>01-02-2018</td>\n",
       "      <td>132</td>\n",
       "    </tr>\n",
       "    <tr>\n",
       "      <th>2</th>\n",
       "      <td>01-03-2018</td>\n",
       "      <td>238</td>\n",
       "    </tr>\n",
       "    <tr>\n",
       "      <th>3</th>\n",
       "      <td>01-04-2018</td>\n",
       "      <td>143</td>\n",
       "    </tr>\n",
       "    <tr>\n",
       "      <th>4</th>\n",
       "      <td>01-05-2018</td>\n",
       "      <td>189</td>\n",
       "    </tr>\n",
       "    <tr>\n",
       "      <th>...</th>\n",
       "      <td>...</td>\n",
       "      <td>...</td>\n",
       "    </tr>\n",
       "    <tr>\n",
       "      <th>214</th>\n",
       "      <td>30-12-2017</td>\n",
       "      <td>199</td>\n",
       "    </tr>\n",
       "    <tr>\n",
       "      <th>215</th>\n",
       "      <td>31-01-2018</td>\n",
       "      <td>65</td>\n",
       "    </tr>\n",
       "    <tr>\n",
       "      <th>216</th>\n",
       "      <td>31-03-2018</td>\n",
       "      <td>175</td>\n",
       "    </tr>\n",
       "    <tr>\n",
       "      <th>217</th>\n",
       "      <td>31-05-2018</td>\n",
       "      <td>227</td>\n",
       "    </tr>\n",
       "    <tr>\n",
       "      <th>218</th>\n",
       "      <td>31-12-2017</td>\n",
       "      <td>147</td>\n",
       "    </tr>\n",
       "  </tbody>\n",
       "</table>\n",
       "<p>219 rows × 2 columns</p>\n",
       "</div>"
      ],
      "text/plain": [
       "    publish_date  count\n",
       "0     01-01-2018    154\n",
       "1     01-02-2018    132\n",
       "2     01-03-2018    238\n",
       "3     01-04-2018    143\n",
       "4     01-05-2018    189\n",
       "..           ...    ...\n",
       "214   30-12-2017    199\n",
       "215   31-01-2018     65\n",
       "216   31-03-2018    175\n",
       "217   31-05-2018    227\n",
       "218   31-12-2017    147\n",
       "\n",
       "[219 rows x 2 columns]"
      ]
     },
     "execution_count": 165,
     "metadata": {},
     "output_type": "execute_result"
    }
   ],
   "source": [
    "pd.DataFrame(publish_ind)"
   ]
  },
  {
   "cell_type": "code",
   "execution_count": 171,
   "id": "91f28f83-8006-4673-ba5a-17f462e407d9",
   "metadata": {},
   "outputs": [
    {
     "data": {
      "text/plain": [
       "168"
      ]
     },
     "execution_count": 171,
     "metadata": {},
     "output_type": "execute_result"
    }
   ],
   "source": [
    "# Avg Videos Published/ day\n",
    "int(publish_ind[\"count\"].mean())"
   ]
  },
  {
   "cell_type": "code",
   "execution_count": 149,
   "id": "009bb4ee-5ff9-4d32-a275-f24a7dbdf324",
   "metadata": {},
   "outputs": [],
   "source": [
    "publish_ind.columns = [\"publish_date\", \"count\"]"
   ]
  },
  {
   "cell_type": "code",
   "execution_count": 150,
   "id": "6d61633f-257c-4f0c-9196-e229f935a33c",
   "metadata": {},
   "outputs": [
    {
     "ename": "KeyError",
     "evalue": "'count'",
     "output_type": "error",
     "traceback": [
      "\u001b[1;31m---------------------------------------------------------------------------\u001b[0m",
      "\u001b[1;31mKeyError\u001b[0m                                  Traceback (most recent call last)",
      "File \u001b[1;32m~\\Documents\\youtube_analytics\\.venv\\Lib\\site-packages\\pandas\\core\\indexes\\base.py:3653\u001b[0m, in \u001b[0;36mIndex.get_loc\u001b[1;34m(self, key)\u001b[0m\n\u001b[0;32m   3652\u001b[0m \u001b[38;5;28;01mtry\u001b[39;00m:\n\u001b[1;32m-> 3653\u001b[0m     \u001b[38;5;28;01mreturn\u001b[39;00m \u001b[38;5;28;43mself\u001b[39;49m\u001b[38;5;241;43m.\u001b[39;49m\u001b[43m_engine\u001b[49m\u001b[38;5;241;43m.\u001b[39;49m\u001b[43mget_loc\u001b[49m\u001b[43m(\u001b[49m\u001b[43mcasted_key\u001b[49m\u001b[43m)\u001b[49m\n\u001b[0;32m   3654\u001b[0m \u001b[38;5;28;01mexcept\u001b[39;00m \u001b[38;5;167;01mKeyError\u001b[39;00m \u001b[38;5;28;01mas\u001b[39;00m err:\n",
      "File \u001b[1;32m~\\Documents\\youtube_analytics\\.venv\\Lib\\site-packages\\pandas\\_libs\\index.pyx:147\u001b[0m, in \u001b[0;36mpandas._libs.index.IndexEngine.get_loc\u001b[1;34m()\u001b[0m\n",
      "File \u001b[1;32m~\\Documents\\youtube_analytics\\.venv\\Lib\\site-packages\\pandas\\_libs\\index.pyx:176\u001b[0m, in \u001b[0;36mpandas._libs.index.IndexEngine.get_loc\u001b[1;34m()\u001b[0m\n",
      "File \u001b[1;32mpandas\\_libs\\hashtable_class_helper.pxi:7080\u001b[0m, in \u001b[0;36mpandas._libs.hashtable.PyObjectHashTable.get_item\u001b[1;34m()\u001b[0m\n",
      "File \u001b[1;32mpandas\\_libs\\hashtable_class_helper.pxi:7088\u001b[0m, in \u001b[0;36mpandas._libs.hashtable.PyObjectHashTable.get_item\u001b[1;34m()\u001b[0m\n",
      "\u001b[1;31mKeyError\u001b[0m: 'count'",
      "\nThe above exception was the direct cause of the following exception:\n",
      "\u001b[1;31mKeyError\u001b[0m                                  Traceback (most recent call last)",
      "Cell \u001b[1;32mIn[150], line 1\u001b[0m\n\u001b[1;32m----> 1\u001b[0m \u001b[43mpublish_ind\u001b[49m\u001b[43m[\u001b[49m\u001b[38;5;124;43m\"\u001b[39;49m\u001b[38;5;124;43mcount\u001b[39;49m\u001b[38;5;124;43m\"\u001b[39;49m\u001b[43m]\u001b[49m\n",
      "File \u001b[1;32m~\\Documents\\youtube_analytics\\.venv\\Lib\\site-packages\\pandas\\core\\series.py:1007\u001b[0m, in \u001b[0;36mSeries.__getitem__\u001b[1;34m(self, key)\u001b[0m\n\u001b[0;32m   1004\u001b[0m     \u001b[38;5;28;01mreturn\u001b[39;00m \u001b[38;5;28mself\u001b[39m\u001b[38;5;241m.\u001b[39m_values[key]\n\u001b[0;32m   1006\u001b[0m \u001b[38;5;28;01melif\u001b[39;00m key_is_scalar:\n\u001b[1;32m-> 1007\u001b[0m     \u001b[38;5;28;01mreturn\u001b[39;00m \u001b[38;5;28;43mself\u001b[39;49m\u001b[38;5;241;43m.\u001b[39;49m\u001b[43m_get_value\u001b[49m\u001b[43m(\u001b[49m\u001b[43mkey\u001b[49m\u001b[43m)\u001b[49m\n\u001b[0;32m   1009\u001b[0m \u001b[38;5;28;01mif\u001b[39;00m is_hashable(key):\n\u001b[0;32m   1010\u001b[0m     \u001b[38;5;66;03m# Otherwise index.get_value will raise InvalidIndexError\u001b[39;00m\n\u001b[0;32m   1011\u001b[0m     \u001b[38;5;28;01mtry\u001b[39;00m:\n\u001b[0;32m   1012\u001b[0m         \u001b[38;5;66;03m# For labels that don't resolve as scalars like tuples and frozensets\u001b[39;00m\n",
      "File \u001b[1;32m~\\Documents\\youtube_analytics\\.venv\\Lib\\site-packages\\pandas\\core\\series.py:1116\u001b[0m, in \u001b[0;36mSeries._get_value\u001b[1;34m(self, label, takeable)\u001b[0m\n\u001b[0;32m   1113\u001b[0m     \u001b[38;5;28;01mreturn\u001b[39;00m \u001b[38;5;28mself\u001b[39m\u001b[38;5;241m.\u001b[39m_values[label]\n\u001b[0;32m   1115\u001b[0m \u001b[38;5;66;03m# Similar to Index.get_value, but we do not fall back to positional\u001b[39;00m\n\u001b[1;32m-> 1116\u001b[0m loc \u001b[38;5;241m=\u001b[39m \u001b[38;5;28;43mself\u001b[39;49m\u001b[38;5;241;43m.\u001b[39;49m\u001b[43mindex\u001b[49m\u001b[38;5;241;43m.\u001b[39;49m\u001b[43mget_loc\u001b[49m\u001b[43m(\u001b[49m\u001b[43mlabel\u001b[49m\u001b[43m)\u001b[49m\n\u001b[0;32m   1118\u001b[0m \u001b[38;5;28;01mif\u001b[39;00m is_integer(loc):\n\u001b[0;32m   1119\u001b[0m     \u001b[38;5;28;01mreturn\u001b[39;00m \u001b[38;5;28mself\u001b[39m\u001b[38;5;241m.\u001b[39m_values[loc]\n",
      "File \u001b[1;32m~\\Documents\\youtube_analytics\\.venv\\Lib\\site-packages\\pandas\\core\\indexes\\base.py:3655\u001b[0m, in \u001b[0;36mIndex.get_loc\u001b[1;34m(self, key)\u001b[0m\n\u001b[0;32m   3653\u001b[0m     \u001b[38;5;28;01mreturn\u001b[39;00m \u001b[38;5;28mself\u001b[39m\u001b[38;5;241m.\u001b[39m_engine\u001b[38;5;241m.\u001b[39mget_loc(casted_key)\n\u001b[0;32m   3654\u001b[0m \u001b[38;5;28;01mexcept\u001b[39;00m \u001b[38;5;167;01mKeyError\u001b[39;00m \u001b[38;5;28;01mas\u001b[39;00m err:\n\u001b[1;32m-> 3655\u001b[0m     \u001b[38;5;28;01mraise\u001b[39;00m \u001b[38;5;167;01mKeyError\u001b[39;00m(key) \u001b[38;5;28;01mfrom\u001b[39;00m \u001b[38;5;21;01merr\u001b[39;00m\n\u001b[0;32m   3656\u001b[0m \u001b[38;5;28;01mexcept\u001b[39;00m \u001b[38;5;167;01mTypeError\u001b[39;00m:\n\u001b[0;32m   3657\u001b[0m     \u001b[38;5;66;03m# If we have a listlike key, _check_indexing_error will raise\u001b[39;00m\n\u001b[0;32m   3658\u001b[0m     \u001b[38;5;66;03m#  InvalidIndexError. Otherwise we fall through and re-raise\u001b[39;00m\n\u001b[0;32m   3659\u001b[0m     \u001b[38;5;66;03m#  the TypeError.\u001b[39;00m\n\u001b[0;32m   3660\u001b[0m     \u001b[38;5;28mself\u001b[39m\u001b[38;5;241m.\u001b[39m_check_indexing_error(key)\n",
      "\u001b[1;31mKeyError\u001b[0m: 'count'"
     ]
    }
   ],
   "source": [
    "publish_ind[\"count\"]"
   ]
  },
  {
   "cell_type": "code",
   "execution_count": 101,
   "id": "1723c342-325a-401c-888f-f212cabae891",
   "metadata": {},
   "outputs": [
    {
     "data": {
      "text/plain": [
       "6351"
      ]
     },
     "execution_count": 101,
     "metadata": {},
     "output_type": "execute_result"
    }
   ],
   "source": [
    "usa_df[\"video_id\"].nunique()"
   ]
  },
  {
   "cell_type": "code",
   "execution_count": 102,
   "id": "75f98882-5d9d-4dbb-b303-72f7a4a68d4c",
   "metadata": {},
   "outputs": [
    {
     "data": {
      "text/html": [
       "<div>\n",
       "<style scoped>\n",
       "    .dataframe tbody tr th:only-of-type {\n",
       "        vertical-align: middle;\n",
       "    }\n",
       "\n",
       "    .dataframe tbody tr th {\n",
       "        vertical-align: top;\n",
       "    }\n",
       "\n",
       "    .dataframe thead th {\n",
       "        text-align: right;\n",
       "    }\n",
       "</style>\n",
       "<table border=\"1\" class=\"dataframe\">\n",
       "  <thead>\n",
       "    <tr style=\"text-align: right;\">\n",
       "      <th></th>\n",
       "      <th>video_id</th>\n",
       "      <th>engagement</th>\n",
       "      <th>age</th>\n",
       "    </tr>\n",
       "    <tr>\n",
       "      <th>video_id</th>\n",
       "      <th></th>\n",
       "      <th></th>\n",
       "      <th></th>\n",
       "    </tr>\n",
       "  </thead>\n",
       "  <tbody>\n",
       "    <tr>\n",
       "      <th>-0CMnp02rNY</th>\n",
       "      <td>6</td>\n",
       "      <td>56058</td>\n",
       "      <td>6</td>\n",
       "    </tr>\n",
       "    <tr>\n",
       "      <th>-0NYY8cqdiQ</th>\n",
       "      <td>1</td>\n",
       "      <td>4577</td>\n",
       "      <td>1</td>\n",
       "    </tr>\n",
       "    <tr>\n",
       "      <th>-1Hm41N0dUs</th>\n",
       "      <td>3</td>\n",
       "      <td>118054</td>\n",
       "      <td>3</td>\n",
       "    </tr>\n",
       "    <tr>\n",
       "      <th>-1yT-K3c6YI</th>\n",
       "      <td>4</td>\n",
       "      <td>30946</td>\n",
       "      <td>4</td>\n",
       "    </tr>\n",
       "    <tr>\n",
       "      <th>-2RVw2_QyxQ</th>\n",
       "      <td>3</td>\n",
       "      <td>1489</td>\n",
       "      <td>3</td>\n",
       "    </tr>\n",
       "    <tr>\n",
       "      <th>...</th>\n",
       "      <td>...</td>\n",
       "      <td>...</td>\n",
       "      <td>...</td>\n",
       "    </tr>\n",
       "    <tr>\n",
       "      <th>zwEn-ambXLw</th>\n",
       "      <td>12</td>\n",
       "      <td>86668</td>\n",
       "      <td>12</td>\n",
       "    </tr>\n",
       "    <tr>\n",
       "      <th>zxUwbflE1SY</th>\n",
       "      <td>5</td>\n",
       "      <td>34604</td>\n",
       "      <td>5</td>\n",
       "    </tr>\n",
       "    <tr>\n",
       "      <th>zxwfDlhJIpw</th>\n",
       "      <td>23</td>\n",
       "      <td>5122134</td>\n",
       "      <td>23</td>\n",
       "    </tr>\n",
       "    <tr>\n",
       "      <th>zy0b9e40tK8</th>\n",
       "      <td>1</td>\n",
       "      <td>6463</td>\n",
       "      <td>1</td>\n",
       "    </tr>\n",
       "    <tr>\n",
       "      <th>zzQsGL_F9_c</th>\n",
       "      <td>2</td>\n",
       "      <td>2940</td>\n",
       "      <td>2</td>\n",
       "    </tr>\n",
       "  </tbody>\n",
       "</table>\n",
       "<p>6351 rows × 3 columns</p>\n",
       "</div>"
      ],
      "text/plain": [
       "             video_id  engagement  age\n",
       "video_id                              \n",
       "-0CMnp02rNY         6       56058    6\n",
       "-0NYY8cqdiQ         1        4577    1\n",
       "-1Hm41N0dUs         3      118054    3\n",
       "-1yT-K3c6YI         4       30946    4\n",
       "-2RVw2_QyxQ         3        1489    3\n",
       "...               ...         ...  ...\n",
       "zwEn-ambXLw        12       86668   12\n",
       "zxUwbflE1SY         5       34604    5\n",
       "zxwfDlhJIpw        23     5122134   23\n",
       "zy0b9e40tK8         1        6463    1\n",
       "zzQsGL_F9_c         2        2940    2\n",
       "\n",
       "[6351 rows x 3 columns]"
      ]
     },
     "execution_count": 102,
     "metadata": {},
     "output_type": "execute_result"
    }
   ],
   "source": [
    "usa_df.groupby([\"video_id\"]).agg({\"video_id\": \"count\", \"engagement\": sum, \"age\": sum}).reindex()"
   ]
  },
  {
   "cell_type": "code",
   "execution_count": null,
   "id": "d94d015d-e489-42d2-9f71-ab4bd8329675",
   "metadata": {},
   "outputs": [],
   "source": []
  }
 ],
 "metadata": {
  "kernelspec": {
   "display_name": "Python 3 (ipykernel)",
   "language": "python",
   "name": "python3"
  },
  "language_info": {
   "codemirror_mode": {
    "name": "ipython",
    "version": 3
   },
   "file_extension": ".py",
   "mimetype": "text/x-python",
   "name": "python",
   "nbconvert_exporter": "python",
   "pygments_lexer": "ipython3",
   "version": "3.11.0"
  }
 },
 "nbformat": 4,
 "nbformat_minor": 5
}
